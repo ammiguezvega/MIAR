{
  "cells": [
    {
      "cell_type": "markdown",
      "metadata": {
        "id": "view-in-github",
        "colab_type": "text"
      },
      "source": [
        "<a href=\"https://colab.research.google.com/github/ammiguezvega/MIAR/blob/main/Proyecto_pra%CC%81ctico_AR.ipynb\" target=\"_parent\"><img src=\"https://colab.research.google.com/assets/colab-badge.svg\" alt=\"Open In Colab\"/></a>"
      ]
    },
    {
      "cell_type": "markdown",
      "source": [
        "# Actividad - Proyecto práctico\n",
        "\n",
        "\n",
        "> La actividad se desarrollará en grupos pre-definidos de 2-3 alumnos. Se debe indicar los nombres en orden alfabético (de apellidos). Recordad que esta actividad se corresponde con un 30% de la nota final de la asignatura. Se debe entregar entregar el trabajo en la presente notebook.\n",
        "*   Alumno 1: Ane Moreno Oya\n",
        "*   Alumno 2: Isabel María Suárez Sánchez\n",
        "*   Alumno 3: Naroa Alonso Fernández\n",
        "*   Alumno 4: Antonio Manuel Míguez Vega\n",
        "\n",
        "\n",
        "\n",
        "\n"
      ],
      "metadata": {
        "id": "jUehXgCyIRdq"
      }
    },
    {
      "cell_type": "markdown",
      "source": [
        "---\n",
        "## **PARTE 1** - Instalación y requisitos previos\n",
        "\n",
        "> Las prácticas han sido preparadas para poder realizarse en el entorno de trabajo de Google Colab. Sin embargo, esta plataforma presenta ciertas incompatibilidades a la hora de visualizar la renderización en gym. Por ello, para obtener estas visualizaciones, se deberá trasladar el entorno de trabajo a local. Por ello, el presente dosier presenta instrucciones para poder trabajar en ambos entornos. Siga los siguientes pasos para un correcto funcionamiento:\n",
        "1.   **LOCAL:** Preparar el enviroment, siguiendo las intrucciones detalladas en la sección *1.1.Preparar enviroment*.\n",
        "2.  **AMBOS:** Modificar las variables \"mount\" y \"drive_mount\" a la carpeta de trabajo en drive en el caso de estar en Colab, y ejecturar la celda *1.2.Localizar entorno de trabajo*.\n",
        "3. **COLAB:** se deberá ejecutar las celdas correspondientes al montaje de la carpeta de trabajo en Drive. Esta corresponde a la sección *1.3.Montar carpeta de datos local*.\n",
        "4.  **AMBOS:** Instalar las librerías necesarias, siguiendo la sección *1.4.Instalar librerías necesarias*.\n"
      ],
      "metadata": {
        "id": "JwpYlnjWJhS9"
      }
    },
    {
      "cell_type": "markdown",
      "source": [
        "---\n",
        "### 1.1. Preparar enviroment (solo local)\n",
        "\n",
        "\n",
        "\n",
        "> Para preparar el entorno de trabajo en local, se han seguido los siguientes pasos:\n",
        "1. En Windows, puede ser necesario instalar las C++ Build Tools. Para ello, siga los siguientes pasos: https://towardsdatascience.com/how-to-install-openai-gym-in-a-windows-environment-338969e24d30.\n",
        "2. Instalar Anaconda\n",
        "3. Siguiendo el código que se presenta comentado en la próxima celda: Crear un enviroment, cambiar la ruta de trabajo, e instalar librerías básicas.\n",
        "\n",
        "\n",
        "```\n",
        "conda create --name miar_rl python=3.8\n",
        "conda activate miar_rl\n",
        "cd \"PATH_TO_FOLDER\"\n",
        "conda install git\n",
        "pip install jupyter\n",
        "```\n",
        "\n",
        "\n",
        "4. Abrir la notebook con *jupyter-notebook*.\n",
        "\n",
        "\n",
        "\n",
        "```\n",
        "jupyter-notebook\n",
        "```\n"
      ],
      "metadata": {
        "id": "RU2BPrK2JkP0"
      }
    },
    {
      "cell_type": "markdown",
      "source": [
        "---\n",
        "### 1.2. Localizar entorno de trabajo: Google colab o local"
      ],
      "metadata": {
        "id": "w-kixNPiJqTc"
      }
    },
    {
      "cell_type": "code",
      "source": [
        "# ATENCIÓN!! Modificar ruta relativa a la práctica si es distinta (drive_root)\n",
        "mount='/content/drive'\n",
        "drive_root = mount + \"/My Drive/08_MIAR/actividades/proyecto practico\"\n",
        "\n",
        "try:\n",
        "  from google.colab import drive\n",
        "  IN_COLAB=True\n",
        "except:\n",
        "  IN_COLAB=False"
      ],
      "metadata": {
        "id": "S_YDFwZ-JscI"
      },
      "execution_count": 1,
      "outputs": []
    },
    {
      "cell_type": "markdown",
      "source": [
        "---\n",
        "### 1.3. Montar carpeta de datos local (solo Colab)"
      ],
      "metadata": {
        "id": "8Dp_a1iBJ0tf"
      }
    },
    {
      "cell_type": "code",
      "source": [
        "# Switch to the directory on the Google Drive that you want to use\n",
        "import os\n",
        "if IN_COLAB:\n",
        "  print(\"We're running Colab\")\n",
        "\n",
        "  if IN_COLAB:\n",
        "    # Mount the Google Drive at mount\n",
        "    print(\"Colab: mounting Google drive on \", mount)\n",
        "\n",
        "    drive.mount(mount)\n",
        "\n",
        "    # Create drive_root if it doesn't exist\n",
        "    create_drive_root = True\n",
        "    if create_drive_root:\n",
        "      print(\"\\nColab: making sure \", drive_root, \" exists.\")\n",
        "      os.makedirs(drive_root, exist_ok=True)\n",
        "\n",
        "    # Change to the directory\n",
        "    print(\"\\nColab: Changing directory to \", drive_root)\n",
        "    %cd $drive_root\n",
        "# Verify we're in the correct working directory\n",
        "%pwd\n",
        "print(\"Archivos en el directorio: \")\n",
        "print(os.listdir())"
      ],
      "metadata": {
        "id": "I6n7MIefJ21i",
        "colab": {
          "base_uri": "https://localhost:8080/"
        },
        "outputId": "a10ab680-a3ad-4a55-884b-d18d534225af"
      },
      "execution_count": 2,
      "outputs": [
        {
          "output_type": "stream",
          "name": "stdout",
          "text": [
            "We're running Colab\n",
            "Colab: mounting Google drive on  /content/drive\n",
            "Drive already mounted at /content/drive; to attempt to forcibly remount, call drive.mount(\"/content/drive\", force_remount=True).\n",
            "\n",
            "Colab: making sure  /content/drive/My Drive/08_MIAR/actividades/proyecto practico  exists.\n",
            "\n",
            "Colab: Changing directory to  /content/drive/My Drive/08_MIAR/actividades/proyecto practico\n",
            "/content/drive/My Drive/08_MIAR/actividades/proyecto practico\n",
            "Archivos en el directorio: \n",
            "['dqn_SpaceInvaders-v0_weights_500000.h5f.data-00000-of-00001', 'dqn_SpaceInvaders-v0_weights_500000.h5f.index', 'dqn_SpaceInvaders-v0_weights_750000.h5f.data-00000-of-00001', 'dqn_SpaceInvaders-v0_weights_750000.h5f.index', 'dqn_SpaceInvaders-v0_weights.h5f.index', 'dqn_SpaceInvaders-v0_weights.h5f.data-00000-of-00001', 'dqn_SpaceInvaders-v0_weights_775000.h5f.data-00000-of-00001', 'dqn_SpaceInvaders-v0_weights_775000.h5f.index', 'dqn_SpaceInvaders-v0_weights_800000.h5f.data-00000-of-00001', 'dqn_SpaceInvaders-v0_weights_800000.h5f.index', 'dqn_SpaceInvaders-v0_weights_825000.h5f.data-00000-of-00001', 'dqn_SpaceInvaders-v0_weights_825000.h5f.index', 'dqn_SpaceInvaders-v0_weights_850000.h5f.data-00000-of-00001', 'dqn_SpaceInvaders-v0_weights_850000.h5f.index', 'dqn_SpaceInvaders-v0_weights_875000.h5f.data-00000-of-00001', 'dqn_SpaceInvaders-v0_weights_875000.h5f.index', 'dqn_SpaceInvaders-v0_weights_900000.h5f.data-00000-of-00001', 'dqn_SpaceInvaders-v0_weights_900000.h5f.index', 'dqn_SpaceInvaders-v0_weights_925000.h5f.data-00000-of-00001', 'dqn_SpaceInvaders-v0_weights_925000.h5f.index', 'dqn_SpaceInvaders-v0_weights_950000.h5f.data-00000-of-00001', 'dqn_SpaceInvaders-v0_weights_950000.h5f.index', 'dqn_SpaceInvaders-v0_weights_975000.h5f.data-00000-of-00001', 'dqn_SpaceInvaders-v0_weights_975000.h5f.index', 'dqn_SpaceInvaders-v0_weights_1000000.h5f.data-00000-of-00001', 'dqn_SpaceInvaders-v0_weights_1000000.h5f.index', 'dqn_SpaceInvaders-v0_weights_1025000.h5f.data-00000-of-00001', 'dqn_SpaceInvaders-v0_weights_1025000.h5f.index', 'dqn_SpaceInvaders-v0_weights_1050000.h5f.data-00000-of-00001', 'dqn_SpaceInvaders-v0_weights_1050000.h5f.index', 'dqn_SpaceInvaders-v0_weights_1075000.h5f.data-00000-of-00001', 'dqn_SpaceInvaders-v0_weights_1075000.h5f.index', 'dqn_SpaceInvaders-v0_weights_1100000.h5f.data-00000-of-00001', 'dqn_SpaceInvaders-v0_weights_1100000.h5f.index', 'dqn_SpaceInvaders-v0_weights_1125000.h5f.data-00000-of-00001', 'dqn_SpaceInvaders-v0_weights_1125000.h5f.index', 'dqn_SpaceInvaders-v0_weights_1150000.h5f.data-00000-of-00001', 'dqn_SpaceInvaders-v0_weights_1150000.h5f.index', 'dqn_SpaceInvaders-v0_weights_1175000.h5f.data-00000-of-00001', 'dqn_SpaceInvaders-v0_weights_1175000.h5f.index', 'dqn_SpaceInvaders-v0_weights_1200000.h5f.data-00000-of-00001', 'dqn_SpaceInvaders-v0_weights_1200000.h5f.index', 'dqn_SpaceInvaders-v0_weights_1225000.h5f.data-00000-of-00001', 'dqn_SpaceInvaders-v0_weights_1225000.h5f.index', 'dqn_SpaceInvaders-v0_weights_1250000.h5f.data-00000-of-00001', 'dqn_SpaceInvaders-v0_weights_1250000.h5f.index', 'dqn_SpaceInvaders-v0_weights_1275000.h5f.data-00000-of-00001', 'dqn_SpaceInvaders-v0_weights_1275000.h5f.index', 'dqn_SpaceInvaders-v0_weights_1300000.h5f.data-00000-of-00001', 'dqn_SpaceInvaders-v0_weights_1300000.h5f.index', 'dqn_SpaceInvaders-v0_weights_1325000.h5f.data-00000-of-00001', 'dqn_SpaceInvaders-v0_weights_1325000.h5f.index', 'dqn_SpaceInvaders-v0_weights_1350000.h5f.data-00000-of-00001', 'dqn_SpaceInvaders-v0_weights_1350000.h5f.index', 'dqn_SpaceInvaders-v0_weights_1375000.h5f.data-00000-of-00001', 'dqn_SpaceInvaders-v0_weights_1375000.h5f.index', 'dqn_SpaceInvaders-v0_weights_1400000.h5f.data-00000-of-00001', 'dqn_SpaceInvaders-v0_weights_1400000.h5f.index', 'dqn_SpaceInvaders-v0_log.json', 'dqn_SpaceInvaders-v0_weights_1425000.h5f.data-00000-of-00001', 'dqn_SpaceInvaders-v0_weights_1425000.h5f.index', 'dqn_SpaceInvaders-v0_weights_1450000.h5f.data-00000-of-00001', 'dqn_SpaceInvaders-v0_weights_1450000.h5f.index', 'dqn_SpaceInvaders-v0_weights_1475000.h5f.data-00000-of-00001', 'dqn_SpaceInvaders-v0_weights_1475000.h5f.index', 'checkpoint']\n"
          ]
        }
      ]
    },
    {
      "cell_type": "markdown",
      "source": [
        "---\n",
        "### 1.4. Instalar librerías necesarias"
      ],
      "metadata": {
        "id": "i1ZSL5bpJ560"
      }
    },
    {
      "cell_type": "code",
      "source": [
        "if IN_COLAB:\n",
        "  %pip install gym==0.17.3\n",
        "  %pip install git+https://github.com/Kojoley/atari-py.git\n",
        "  %pip install keras-rl2==1.0.5\n",
        "  %pip install tensorflow==2.12.0\n",
        "else:\n",
        "  %pip install gym==0.17.3\n",
        "  %pip install git+https://github.com/Kojoley/atari-py.git\n",
        "  %pip install pyglet==1.5.0\n",
        "  %pip install h5py==3.1.0\n",
        "  %pip install Pillow==9.5.0\n",
        "  %pip install keras-rl2==1.0.5\n",
        "  %pip install Keras==2.2.4\n",
        "  %pip install tensorflow==2.5.3\n",
        "  %pip install torch==2.0.1\n",
        "  %pip install agents==1.4.0"
      ],
      "metadata": {
        "id": "UbVRjvHCJ8UF",
        "colab": {
          "base_uri": "https://localhost:8080/"
        },
        "outputId": "1e5cd7a7-6def-4476-b108-0a6371d1f173"
      },
      "execution_count": 3,
      "outputs": [
        {
          "output_type": "stream",
          "name": "stdout",
          "text": [
            "Requirement already satisfied: gym==0.17.3 in /usr/local/lib/python3.11/dist-packages (0.17.3)\n",
            "Requirement already satisfied: scipy in /usr/local/lib/python3.11/dist-packages (from gym==0.17.3) (1.15.3)\n",
            "Requirement already satisfied: numpy>=1.10.4 in /usr/local/lib/python3.11/dist-packages (from gym==0.17.3) (1.23.5)\n",
            "Requirement already satisfied: pyglet<=1.5.0,>=1.4.0 in /usr/local/lib/python3.11/dist-packages (from gym==0.17.3) (1.5.0)\n",
            "Requirement already satisfied: cloudpickle<1.7.0,>=1.2.0 in /usr/local/lib/python3.11/dist-packages (from gym==0.17.3) (1.6.0)\n",
            "Requirement already satisfied: future in /usr/local/lib/python3.11/dist-packages (from pyglet<=1.5.0,>=1.4.0->gym==0.17.3) (1.0.0)\n",
            "Collecting git+https://github.com/Kojoley/atari-py.git\n",
            "  Cloning https://github.com/Kojoley/atari-py.git to /tmp/pip-req-build-fqt_kfse\n",
            "  Running command git clone --filter=blob:none --quiet https://github.com/Kojoley/atari-py.git /tmp/pip-req-build-fqt_kfse\n",
            "  Resolved https://github.com/Kojoley/atari-py.git to commit 86a1e05c0a95e9e6233c3a413521fdb34ca8a089\n",
            "  Preparing metadata (setup.py) ... \u001b[?25l\u001b[?25hdone\n",
            "Requirement already satisfied: numpy in /usr/local/lib/python3.11/dist-packages (from atari-py==1.2.2) (1.23.5)\n",
            "Requirement already satisfied: keras-rl2==1.0.5 in /usr/local/lib/python3.11/dist-packages (1.0.5)\n",
            "Requirement already satisfied: tensorflow in /usr/local/lib/python3.11/dist-packages (from keras-rl2==1.0.5) (2.12.0)\n",
            "Requirement already satisfied: absl-py>=1.0.0 in /usr/local/lib/python3.11/dist-packages (from tensorflow->keras-rl2==1.0.5) (1.4.0)\n",
            "Requirement already satisfied: astunparse>=1.6.0 in /usr/local/lib/python3.11/dist-packages (from tensorflow->keras-rl2==1.0.5) (1.6.3)\n",
            "Requirement already satisfied: flatbuffers>=2.0 in /usr/local/lib/python3.11/dist-packages (from tensorflow->keras-rl2==1.0.5) (25.2.10)\n",
            "Requirement already satisfied: gast<=0.4.0,>=0.2.1 in /usr/local/lib/python3.11/dist-packages (from tensorflow->keras-rl2==1.0.5) (0.4.0)\n",
            "Requirement already satisfied: google-pasta>=0.1.1 in /usr/local/lib/python3.11/dist-packages (from tensorflow->keras-rl2==1.0.5) (0.2.0)\n",
            "Requirement already satisfied: grpcio<2.0,>=1.24.3 in /usr/local/lib/python3.11/dist-packages (from tensorflow->keras-rl2==1.0.5) (1.73.0)\n",
            "Requirement already satisfied: h5py>=2.9.0 in /usr/local/lib/python3.11/dist-packages (from tensorflow->keras-rl2==1.0.5) (3.14.0)\n",
            "Requirement already satisfied: jax>=0.3.15 in /usr/local/lib/python3.11/dist-packages (from tensorflow->keras-rl2==1.0.5) (0.4.30)\n",
            "Requirement already satisfied: keras<2.13,>=2.12.0 in /usr/local/lib/python3.11/dist-packages (from tensorflow->keras-rl2==1.0.5) (2.12.0)\n",
            "Requirement already satisfied: libclang>=13.0.0 in /usr/local/lib/python3.11/dist-packages (from tensorflow->keras-rl2==1.0.5) (18.1.1)\n",
            "Requirement already satisfied: numpy<1.24,>=1.22 in /usr/local/lib/python3.11/dist-packages (from tensorflow->keras-rl2==1.0.5) (1.23.5)\n",
            "Requirement already satisfied: opt-einsum>=2.3.2 in /usr/local/lib/python3.11/dist-packages (from tensorflow->keras-rl2==1.0.5) (3.4.0)\n",
            "Requirement already satisfied: packaging in /usr/local/lib/python3.11/dist-packages (from tensorflow->keras-rl2==1.0.5) (24.2)\n",
            "Requirement already satisfied: protobuf!=4.21.0,!=4.21.1,!=4.21.2,!=4.21.3,!=4.21.4,!=4.21.5,<5.0.0dev,>=3.20.3 in /usr/local/lib/python3.11/dist-packages (from tensorflow->keras-rl2==1.0.5) (4.25.8)\n",
            "Requirement already satisfied: setuptools in /usr/local/lib/python3.11/dist-packages (from tensorflow->keras-rl2==1.0.5) (75.2.0)\n",
            "Requirement already satisfied: six>=1.12.0 in /usr/local/lib/python3.11/dist-packages (from tensorflow->keras-rl2==1.0.5) (1.17.0)\n",
            "Requirement already satisfied: tensorboard<2.13,>=2.12 in /usr/local/lib/python3.11/dist-packages (from tensorflow->keras-rl2==1.0.5) (2.12.3)\n",
            "Requirement already satisfied: tensorflow-estimator<2.13,>=2.12.0 in /usr/local/lib/python3.11/dist-packages (from tensorflow->keras-rl2==1.0.5) (2.12.0)\n",
            "Requirement already satisfied: termcolor>=1.1.0 in /usr/local/lib/python3.11/dist-packages (from tensorflow->keras-rl2==1.0.5) (3.1.0)\n",
            "Requirement already satisfied: typing-extensions>=3.6.6 in /usr/local/lib/python3.11/dist-packages (from tensorflow->keras-rl2==1.0.5) (4.14.0)\n",
            "Requirement already satisfied: wrapt<1.15,>=1.11.0 in /usr/local/lib/python3.11/dist-packages (from tensorflow->keras-rl2==1.0.5) (1.14.1)\n",
            "Requirement already satisfied: tensorflow-io-gcs-filesystem>=0.23.1 in /usr/local/lib/python3.11/dist-packages (from tensorflow->keras-rl2==1.0.5) (0.37.1)\n",
            "Requirement already satisfied: wheel<1.0,>=0.23.0 in /usr/local/lib/python3.11/dist-packages (from astunparse>=1.6.0->tensorflow->keras-rl2==1.0.5) (0.45.1)\n",
            "Requirement already satisfied: jaxlib<=0.4.30,>=0.4.27 in /usr/local/lib/python3.11/dist-packages (from jax>=0.3.15->tensorflow->keras-rl2==1.0.5) (0.4.30)\n",
            "Requirement already satisfied: ml-dtypes>=0.2.0 in /usr/local/lib/python3.11/dist-packages (from jax>=0.3.15->tensorflow->keras-rl2==1.0.5) (0.4.1)\n",
            "Requirement already satisfied: scipy>=1.9 in /usr/local/lib/python3.11/dist-packages (from jax>=0.3.15->tensorflow->keras-rl2==1.0.5) (1.15.3)\n",
            "Requirement already satisfied: google-auth<3,>=1.6.3 in /usr/local/lib/python3.11/dist-packages (from tensorboard<2.13,>=2.12->tensorflow->keras-rl2==1.0.5) (2.38.0)\n",
            "Requirement already satisfied: google-auth-oauthlib<1.1,>=0.5 in /usr/local/lib/python3.11/dist-packages (from tensorboard<2.13,>=2.12->tensorflow->keras-rl2==1.0.5) (1.0.0)\n",
            "Requirement already satisfied: markdown>=2.6.8 in /usr/local/lib/python3.11/dist-packages (from tensorboard<2.13,>=2.12->tensorflow->keras-rl2==1.0.5) (3.8)\n",
            "Requirement already satisfied: requests<3,>=2.21.0 in /usr/local/lib/python3.11/dist-packages (from tensorboard<2.13,>=2.12->tensorflow->keras-rl2==1.0.5) (2.32.3)\n",
            "Requirement already satisfied: tensorboard-data-server<0.8.0,>=0.7.0 in /usr/local/lib/python3.11/dist-packages (from tensorboard<2.13,>=2.12->tensorflow->keras-rl2==1.0.5) (0.7.2)\n",
            "Requirement already satisfied: werkzeug>=1.0.1 in /usr/local/lib/python3.11/dist-packages (from tensorboard<2.13,>=2.12->tensorflow->keras-rl2==1.0.5) (3.1.3)\n",
            "Requirement already satisfied: cachetools<6.0,>=2.0.0 in /usr/local/lib/python3.11/dist-packages (from google-auth<3,>=1.6.3->tensorboard<2.13,>=2.12->tensorflow->keras-rl2==1.0.5) (5.5.2)\n",
            "Requirement already satisfied: pyasn1-modules>=0.2.1 in /usr/local/lib/python3.11/dist-packages (from google-auth<3,>=1.6.3->tensorboard<2.13,>=2.12->tensorflow->keras-rl2==1.0.5) (0.4.2)\n",
            "Requirement already satisfied: rsa<5,>=3.1.4 in /usr/local/lib/python3.11/dist-packages (from google-auth<3,>=1.6.3->tensorboard<2.13,>=2.12->tensorflow->keras-rl2==1.0.5) (4.9.1)\n",
            "Requirement already satisfied: requests-oauthlib>=0.7.0 in /usr/local/lib/python3.11/dist-packages (from google-auth-oauthlib<1.1,>=0.5->tensorboard<2.13,>=2.12->tensorflow->keras-rl2==1.0.5) (2.0.0)\n",
            "Requirement already satisfied: charset-normalizer<4,>=2 in /usr/local/lib/python3.11/dist-packages (from requests<3,>=2.21.0->tensorboard<2.13,>=2.12->tensorflow->keras-rl2==1.0.5) (3.4.2)\n",
            "Requirement already satisfied: idna<4,>=2.5 in /usr/local/lib/python3.11/dist-packages (from requests<3,>=2.21.0->tensorboard<2.13,>=2.12->tensorflow->keras-rl2==1.0.5) (3.10)\n",
            "Requirement already satisfied: urllib3<3,>=1.21.1 in /usr/local/lib/python3.11/dist-packages (from requests<3,>=2.21.0->tensorboard<2.13,>=2.12->tensorflow->keras-rl2==1.0.5) (2.4.0)\n",
            "Requirement already satisfied: certifi>=2017.4.17 in /usr/local/lib/python3.11/dist-packages (from requests<3,>=2.21.0->tensorboard<2.13,>=2.12->tensorflow->keras-rl2==1.0.5) (2025.4.26)\n",
            "Requirement already satisfied: MarkupSafe>=2.1.1 in /usr/local/lib/python3.11/dist-packages (from werkzeug>=1.0.1->tensorboard<2.13,>=2.12->tensorflow->keras-rl2==1.0.5) (3.0.2)\n",
            "Requirement already satisfied: pyasn1<0.7.0,>=0.6.1 in /usr/local/lib/python3.11/dist-packages (from pyasn1-modules>=0.2.1->google-auth<3,>=1.6.3->tensorboard<2.13,>=2.12->tensorflow->keras-rl2==1.0.5) (0.6.1)\n",
            "Requirement already satisfied: oauthlib>=3.0.0 in /usr/local/lib/python3.11/dist-packages (from requests-oauthlib>=0.7.0->google-auth-oauthlib<1.1,>=0.5->tensorboard<2.13,>=2.12->tensorflow->keras-rl2==1.0.5) (3.2.2)\n",
            "Requirement already satisfied: tensorflow==2.12.0 in /usr/local/lib/python3.11/dist-packages (2.12.0)\n",
            "Requirement already satisfied: absl-py>=1.0.0 in /usr/local/lib/python3.11/dist-packages (from tensorflow==2.12.0) (1.4.0)\n",
            "Requirement already satisfied: astunparse>=1.6.0 in /usr/local/lib/python3.11/dist-packages (from tensorflow==2.12.0) (1.6.3)\n",
            "Requirement already satisfied: flatbuffers>=2.0 in /usr/local/lib/python3.11/dist-packages (from tensorflow==2.12.0) (25.2.10)\n",
            "Requirement already satisfied: gast<=0.4.0,>=0.2.1 in /usr/local/lib/python3.11/dist-packages (from tensorflow==2.12.0) (0.4.0)\n",
            "Requirement already satisfied: google-pasta>=0.1.1 in /usr/local/lib/python3.11/dist-packages (from tensorflow==2.12.0) (0.2.0)\n",
            "Requirement already satisfied: grpcio<2.0,>=1.24.3 in /usr/local/lib/python3.11/dist-packages (from tensorflow==2.12.0) (1.73.0)\n",
            "Requirement already satisfied: h5py>=2.9.0 in /usr/local/lib/python3.11/dist-packages (from tensorflow==2.12.0) (3.14.0)\n",
            "Requirement already satisfied: jax>=0.3.15 in /usr/local/lib/python3.11/dist-packages (from tensorflow==2.12.0) (0.4.30)\n",
            "Requirement already satisfied: keras<2.13,>=2.12.0 in /usr/local/lib/python3.11/dist-packages (from tensorflow==2.12.0) (2.12.0)\n",
            "Requirement already satisfied: libclang>=13.0.0 in /usr/local/lib/python3.11/dist-packages (from tensorflow==2.12.0) (18.1.1)\n",
            "Requirement already satisfied: numpy<1.24,>=1.22 in /usr/local/lib/python3.11/dist-packages (from tensorflow==2.12.0) (1.23.5)\n",
            "Requirement already satisfied: opt-einsum>=2.3.2 in /usr/local/lib/python3.11/dist-packages (from tensorflow==2.12.0) (3.4.0)\n",
            "Requirement already satisfied: packaging in /usr/local/lib/python3.11/dist-packages (from tensorflow==2.12.0) (24.2)\n",
            "Requirement already satisfied: protobuf!=4.21.0,!=4.21.1,!=4.21.2,!=4.21.3,!=4.21.4,!=4.21.5,<5.0.0dev,>=3.20.3 in /usr/local/lib/python3.11/dist-packages (from tensorflow==2.12.0) (4.25.8)\n",
            "Requirement already satisfied: setuptools in /usr/local/lib/python3.11/dist-packages (from tensorflow==2.12.0) (75.2.0)\n",
            "Requirement already satisfied: six>=1.12.0 in /usr/local/lib/python3.11/dist-packages (from tensorflow==2.12.0) (1.17.0)\n",
            "Requirement already satisfied: tensorboard<2.13,>=2.12 in /usr/local/lib/python3.11/dist-packages (from tensorflow==2.12.0) (2.12.3)\n",
            "Requirement already satisfied: tensorflow-estimator<2.13,>=2.12.0 in /usr/local/lib/python3.11/dist-packages (from tensorflow==2.12.0) (2.12.0)\n",
            "Requirement already satisfied: termcolor>=1.1.0 in /usr/local/lib/python3.11/dist-packages (from tensorflow==2.12.0) (3.1.0)\n",
            "Requirement already satisfied: typing-extensions>=3.6.6 in /usr/local/lib/python3.11/dist-packages (from tensorflow==2.12.0) (4.14.0)\n",
            "Requirement already satisfied: wrapt<1.15,>=1.11.0 in /usr/local/lib/python3.11/dist-packages (from tensorflow==2.12.0) (1.14.1)\n",
            "Requirement already satisfied: tensorflow-io-gcs-filesystem>=0.23.1 in /usr/local/lib/python3.11/dist-packages (from tensorflow==2.12.0) (0.37.1)\n",
            "Requirement already satisfied: wheel<1.0,>=0.23.0 in /usr/local/lib/python3.11/dist-packages (from astunparse>=1.6.0->tensorflow==2.12.0) (0.45.1)\n",
            "Requirement already satisfied: jaxlib<=0.4.30,>=0.4.27 in /usr/local/lib/python3.11/dist-packages (from jax>=0.3.15->tensorflow==2.12.0) (0.4.30)\n",
            "Requirement already satisfied: ml-dtypes>=0.2.0 in /usr/local/lib/python3.11/dist-packages (from jax>=0.3.15->tensorflow==2.12.0) (0.4.1)\n",
            "Requirement already satisfied: scipy>=1.9 in /usr/local/lib/python3.11/dist-packages (from jax>=0.3.15->tensorflow==2.12.0) (1.15.3)\n",
            "Requirement already satisfied: google-auth<3,>=1.6.3 in /usr/local/lib/python3.11/dist-packages (from tensorboard<2.13,>=2.12->tensorflow==2.12.0) (2.38.0)\n",
            "Requirement already satisfied: google-auth-oauthlib<1.1,>=0.5 in /usr/local/lib/python3.11/dist-packages (from tensorboard<2.13,>=2.12->tensorflow==2.12.0) (1.0.0)\n",
            "Requirement already satisfied: markdown>=2.6.8 in /usr/local/lib/python3.11/dist-packages (from tensorboard<2.13,>=2.12->tensorflow==2.12.0) (3.8)\n",
            "Requirement already satisfied: requests<3,>=2.21.0 in /usr/local/lib/python3.11/dist-packages (from tensorboard<2.13,>=2.12->tensorflow==2.12.0) (2.32.3)\n",
            "Requirement already satisfied: tensorboard-data-server<0.8.0,>=0.7.0 in /usr/local/lib/python3.11/dist-packages (from tensorboard<2.13,>=2.12->tensorflow==2.12.0) (0.7.2)\n",
            "Requirement already satisfied: werkzeug>=1.0.1 in /usr/local/lib/python3.11/dist-packages (from tensorboard<2.13,>=2.12->tensorflow==2.12.0) (3.1.3)\n",
            "Requirement already satisfied: cachetools<6.0,>=2.0.0 in /usr/local/lib/python3.11/dist-packages (from google-auth<3,>=1.6.3->tensorboard<2.13,>=2.12->tensorflow==2.12.0) (5.5.2)\n",
            "Requirement already satisfied: pyasn1-modules>=0.2.1 in /usr/local/lib/python3.11/dist-packages (from google-auth<3,>=1.6.3->tensorboard<2.13,>=2.12->tensorflow==2.12.0) (0.4.2)\n",
            "Requirement already satisfied: rsa<5,>=3.1.4 in /usr/local/lib/python3.11/dist-packages (from google-auth<3,>=1.6.3->tensorboard<2.13,>=2.12->tensorflow==2.12.0) (4.9.1)\n",
            "Requirement already satisfied: requests-oauthlib>=0.7.0 in /usr/local/lib/python3.11/dist-packages (from google-auth-oauthlib<1.1,>=0.5->tensorboard<2.13,>=2.12->tensorflow==2.12.0) (2.0.0)\n",
            "Requirement already satisfied: charset-normalizer<4,>=2 in /usr/local/lib/python3.11/dist-packages (from requests<3,>=2.21.0->tensorboard<2.13,>=2.12->tensorflow==2.12.0) (3.4.2)\n",
            "Requirement already satisfied: idna<4,>=2.5 in /usr/local/lib/python3.11/dist-packages (from requests<3,>=2.21.0->tensorboard<2.13,>=2.12->tensorflow==2.12.0) (3.10)\n",
            "Requirement already satisfied: urllib3<3,>=1.21.1 in /usr/local/lib/python3.11/dist-packages (from requests<3,>=2.21.0->tensorboard<2.13,>=2.12->tensorflow==2.12.0) (2.4.0)\n",
            "Requirement already satisfied: certifi>=2017.4.17 in /usr/local/lib/python3.11/dist-packages (from requests<3,>=2.21.0->tensorboard<2.13,>=2.12->tensorflow==2.12.0) (2025.4.26)\n",
            "Requirement already satisfied: MarkupSafe>=2.1.1 in /usr/local/lib/python3.11/dist-packages (from werkzeug>=1.0.1->tensorboard<2.13,>=2.12->tensorflow==2.12.0) (3.0.2)\n",
            "Requirement already satisfied: pyasn1<0.7.0,>=0.6.1 in /usr/local/lib/python3.11/dist-packages (from pyasn1-modules>=0.2.1->google-auth<3,>=1.6.3->tensorboard<2.13,>=2.12->tensorflow==2.12.0) (0.6.1)\n",
            "Requirement already satisfied: oauthlib>=3.0.0 in /usr/local/lib/python3.11/dist-packages (from requests-oauthlib>=0.7.0->google-auth-oauthlib<1.1,>=0.5->tensorboard<2.13,>=2.12->tensorflow==2.12.0) (3.2.2)\n"
          ]
        }
      ]
    },
    {
      "cell_type": "markdown",
      "metadata": {
        "id": "4hzP_5ZuGb2X"
      },
      "source": [
        "---\n",
        "## **PARTE 2**. Enunciado\n",
        "\n",
        "Consideraciones a tener en cuenta:\n",
        "\n",
        "- El entorno sobre el que trabajaremos será _SpaceInvaders-v0_ y el algoritmo que usaremos será _DQN_.\n",
        "\n",
        "- Para nuestro ejercicio, el requisito mínimo será alcanzado cuando el agente consiga una **media de recompensa por encima de 20 puntos en modo test**. Por ello, esta media de la recompensa se calculará a partir del código de test en la última celda del notebook.\n",
        "\n",
        "Este proyecto práctico consta de tres partes:\n",
        "\n",
        "1.   Implementar la red neuronal que se usará en la solución\n",
        "2.   Implementar las distintas piezas de la solución DQN\n",
        "3.   Justificar la respuesta en relación a los resultados obtenidos\n",
        "\n",
        "**Rúbrica**: Se valorará la originalidad en la solución aportada, así como la capacidad de discutir los resultados de forma detallada. El requisito mínimo servirá para aprobar la actividad, bajo premisa de que la discusión del resultado sera apropiada.\n",
        "\n",
        "IMPORTANTE:\n",
        "\n",
        "* Si no se consigue una puntuación óptima, responder sobre la mejor puntuación obtenida.\n",
        "* Para entrenamientos largos, recordad que podéis usar checkpoints de vuestros modelos para retomar los entrenamientos. En este caso, recordad cambiar los parámetros adecuadamente (sobre todo los relacionados con el proceso de exploración).\n",
        "* Se deberá entregar unicamente el notebook y los pesos del mejor modelo en un fichero .zip, de forma organizada.\n",
        "* Cada alumno deberá de subir la solución de forma individual."
      ]
    },
    {
      "cell_type": "markdown",
      "source": [
        "---\n",
        "## **PARTE 3**. Desarrollo y preguntas"
      ],
      "metadata": {
        "id": "6_b3mzw8IzJP"
      }
    },
    {
      "cell_type": "markdown",
      "metadata": {
        "id": "duPmUNOVGb2a"
      },
      "source": [
        "#### Importar librerías"
      ]
    },
    {
      "cell_type": "code",
      "execution_count": 4,
      "metadata": {
        "id": "j3eRhgI-Gb2a"
      },
      "outputs": [],
      "source": [
        "from __future__ import division\n",
        "\n",
        "from PIL import Image\n",
        "import numpy as np\n",
        "import gym\n",
        "\n",
        "from tensorflow.keras.models import Sequential\n",
        "from tensorflow.keras.layers import Dense, Activation, Flatten, Convolution2D, Permute\n",
        "from tensorflow.keras.optimizers.legacy import Adam\n",
        "import tensorflow.keras.backend as K\n",
        "from tensorflow.keras.callbacks import Callback\n",
        "\n",
        "from rl.agents.dqn import DQNAgent\n",
        "from rl.policy import LinearAnnealedPolicy, BoltzmannQPolicy, EpsGreedyQPolicy\n",
        "from rl.memory import SequentialMemory\n",
        "from rl.core import Processor\n",
        "from rl.callbacks import FileLogger, ModelIntervalCheckpoint\n",
        "\n",
        "import re"
      ]
    },
    {
      "cell_type": "markdown",
      "metadata": {
        "id": "f4jgQjzoGb2a"
      },
      "source": [
        "#### Configuración base"
      ]
    },
    {
      "cell_type": "code",
      "execution_count": 5,
      "metadata": {
        "id": "jwOE6I_KGb2a"
      },
      "outputs": [],
      "source": [
        "INPUT_SHAPE = (84, 84)\n",
        "WINDOW_LENGTH = 4\n",
        "\n",
        "env_name = 'SpaceInvaders-v0'\n",
        "env = gym.make(env_name)\n",
        "\n",
        "np.random.seed(123)\n",
        "env.seed(123)\n",
        "nb_actions = env.action_space.n"
      ]
    },
    {
      "cell_type": "code",
      "execution_count": 6,
      "metadata": {
        "id": "9jGEZUcpGb2a"
      },
      "outputs": [],
      "source": [
        "class AtariProcessor(Processor):\n",
        "    def process_observation(self, observation):\n",
        "        assert observation.ndim == 3  # (height, width, channel)\n",
        "        img = Image.fromarray(observation)\n",
        "        img = img.resize(INPUT_SHAPE).convert('L')\n",
        "        processed_observation = np.array(img)\n",
        "        assert processed_observation.shape == INPUT_SHAPE\n",
        "        return processed_observation.astype('uint8')\n",
        "\n",
        "    def process_state_batch(self, batch):\n",
        "        processed_batch = batch.astype('float32') / 255.\n",
        "        return processed_batch\n",
        "\n",
        "    def process_reward(self, reward):\n",
        "        return np.clip(reward, -1., 1.)"
      ]
    },
    {
      "cell_type": "markdown",
      "metadata": {
        "id": "7yitXTADGb2b"
      },
      "source": [
        "1. Implementación de la red neuronal"
      ]
    },
    {
      "cell_type": "code",
      "execution_count": 7,
      "metadata": {
        "id": "O4GKrfWSGb2b",
        "colab": {
          "base_uri": "https://localhost:8080/"
        },
        "outputId": "f4a65de9-06ef-4174-bdaa-8233b75dc846"
      },
      "outputs": [
        {
          "output_type": "stream",
          "name": "stdout",
          "text": [
            "channels_last\n",
            "Model: \"sequential\"\n",
            "_________________________________________________________________\n",
            " Layer (type)                Output Shape              Param #   \n",
            "=================================================================\n",
            " permute (Permute)           (None, 84, 84, 4)         0         \n",
            "                                                                 \n",
            " conv2d (Conv2D)             (None, 20, 20, 32)        8224      \n",
            "                                                                 \n",
            " conv2d_1 (Conv2D)           (None, 9, 9, 64)          32832     \n",
            "                                                                 \n",
            " conv2d_2 (Conv2D)           (None, 7, 7, 64)          36928     \n",
            "                                                                 \n",
            " flatten (Flatten)           (None, 3136)              0         \n",
            "                                                                 \n",
            " dense (Dense)               (None, 512)               1606144   \n",
            "                                                                 \n",
            " dense_1 (Dense)             (None, 6)                 3078      \n",
            "                                                                 \n",
            "=================================================================\n",
            "Total params: 1,687,206\n",
            "Trainable params: 1,687,206\n",
            "Non-trainable params: 0\n",
            "_________________________________________________________________\n",
            "None\n"
          ]
        }
      ],
      "source": [
        "# Usamos la arquitectura canónica de DeepMind para los juegos de Atari descrita en Mnih et al. (2015).\n",
        "input_shape = (WINDOW_LENGTH,) + INPUT_SHAPE\n",
        "\n",
        "model = Sequential()\n",
        "print(K.image_data_format())\n",
        "if K.image_data_format() == 'channels_last':\n",
        "    # (width, height, channels)\n",
        "    model.add(Permute((2, 3, 1), input_shape=input_shape))\n",
        "elif K.image_data_format() == 'channels_first':\n",
        "    # (channels, width, height)\n",
        "    model.add(Permute((1, 2, 3), input_shape=input_shape))\n",
        "else:\n",
        "    raise RuntimeError('Unknown image_dim_ordering.')\n",
        "\n",
        "# Primera capa convolucional\n",
        "model.add(Convolution2D(32, (8, 8), strides=(4, 4), activation='relu'))\n",
        "\n",
        "# Segunda capa convolucional\n",
        "model.add(Convolution2D(64, (4, 4), strides=(2, 2), activation='relu'))\n",
        "\n",
        "# Tercera capa convolucional\n",
        "model.add(Convolution2D(64, (3, 3), strides=(1, 1), activation='relu'))\n",
        "\n",
        "# Aplanamos la salida para la capa densa\n",
        "model.add(Flatten())\n",
        "\n",
        "# Capa densa (fully connected)\n",
        "model.add(Dense(512, activation='relu'))\n",
        "\n",
        "# Capa de salida: una neurona por cada acción posible\n",
        "model.add(Dense(nb_actions, activation='linear'))\n",
        "\n",
        "print(model.summary())"
      ]
    },
    {
      "cell_type": "markdown",
      "metadata": {
        "id": "OB9-_5HPGb2b"
      },
      "source": [
        "2. Implementación de la solución DQN"
      ]
    },
    {
      "cell_type": "code",
      "execution_count": 10,
      "metadata": {
        "id": "foSlxWH1Gb2b",
        "outputId": "947b4e7f-6608-4f36-def0-ef57a1a83cf8",
        "colab": {
          "base_uri": "https://localhost:8080/"
        }
      },
      "outputs": [
        {
          "output_type": "stream",
          "name": "stdout",
          "text": [
            "Buscando checkpoints en Google Drive\n",
            "Checkpoint encontrado: dqn_SpaceInvaders-v0_weights_1750000.h5f (paso 1750000)\n",
            "Configurando política para reanudar: Epsilon inicial = 0.1000, Pasos de decaimiento restantes = -750000\n",
            "\n",
            "El entrenamiento ya se había completado. No hay más pasos que entrenar.\n"
          ]
        }
      ],
      "source": [
        "# Hiperparametros a ajustar\n",
        "MEMORY_SIZE = 1000000           # Tamaño de la Replay Memory\n",
        "\n",
        "EPSILON_MAX = 1.0               # ε inicial\n",
        "EPSILON_MIN = 0.1               # ε final\n",
        "EPSILON_TEST = 0.05             # ε en modo test\n",
        "\n",
        "ANNEALING_STEPS = 1000000       # Steps para decaer de max a min\n",
        "ANNEALING_STEPS_WARMUP = 50000  # Steps de acciones aleatorias antes de empezar a entrenar\n",
        "TOTAL_TRAINING_STEPS = 1750000  # Steps totales de entrenamiento\n",
        "\n",
        "GAMMA = 0.99                    # Factor de descuento\n",
        "TARGET_MODEL_UPDATE = 10000     # Frecuencia de actualización de la target network\n",
        "TRAIN_INTERVAL = 4              # Entrenar cada 4 pasos\n",
        "DELTA_CLIP=1.                   # Huber loss para estabilizar el entrenamiento\n",
        "\n",
        "LEARNING_RATE = 0.0001          # Tasa de aprendizaje\n",
        "\n",
        "\n",
        "# 1. Replay memory: Almacena las tuplas SARS' (state, action, reward, new_state)\n",
        "memory = SequentialMemory(limit=MEMORY_SIZE, window_length=WINDOW_LENGTH)\n",
        "\n",
        "# 2. Policy: ε-Greedy con lineal annealing. Al principio explora mucho (ε=1.0) y gradualmente explota más (ε=0.1)\n",
        "policy = LinearAnnealedPolicy(EpsGreedyQPolicy(),\n",
        "                              attr='eps',\n",
        "                              value_max=EPSILON_MAX,\n",
        "                              value_min=EPSILON_MIN,\n",
        "                              value_test=EPSILON_TEST,\n",
        "                              nb_steps=ANNEALING_STEPS)\n",
        "\n",
        "# 3. Agente DQN\n",
        "processor = AtariProcessor()\n",
        "dqn = DQNAgent(model=model,\n",
        "               nb_actions=nb_actions,\n",
        "               policy=policy,\n",
        "               memory=memory,\n",
        "               processor=processor,\n",
        "               nb_steps_warmup=ANNEALING_STEPS_WARMUP,\n",
        "               gamma=GAMMA,\n",
        "               target_model_update=TARGET_MODEL_UPDATE,\n",
        "               train_interval=TRAIN_INTERVAL,\n",
        "               delta_clip=DELTA_CLIP)\n",
        "\n",
        "# 4. Compilación\n",
        "dqn.compile(Adam(learning_rate=LEARNING_RATE), metrics=['mae'])\n",
        "\n",
        "# 5. Entrenamiento\n",
        "weights_filename = 'dqn_{}_weights.h5f'.format(env_name)\n",
        "checkpoint_weights_filename = 'dqn_' + env_name + '_weights_{step}.h5f'\n",
        "log_filename = 'dqn_{}_log.json'.format(env_name)\n",
        "\n",
        "# Dado que el ModelIntervalCheckpoint de Keras-rl no tiene memoria de entrenamientos anteriores, vamos a crear uno custom que sea stateful y reciba los initial_steps\n",
        "class StatefulModelIntervalCheckpoint(Callback):\n",
        "    def __init__(self, filepath, interval, initial_steps=0, verbose=1):\n",
        "        super(StatefulModelIntervalCheckpoint, self).__init__()\n",
        "        self.filepath = filepath\n",
        "        self.interval = interval\n",
        "        self.verbose = verbose\n",
        "        self.initial_steps = initial_steps\n",
        "        self.last_saved_at_step = initial_steps\n",
        "        self.current_fit_steps = 0\n",
        "\n",
        "    def on_step_end(self, step, logs={}):\n",
        "        self.current_fit_steps += 1\n",
        "\n",
        "        absolute_step = self.initial_steps + self.current_fit_steps\n",
        "\n",
        "        intervals_now = absolute_step // self.interval\n",
        "        intervals_before = self.last_saved_at_step // self.interval\n",
        "\n",
        "        if intervals_now > intervals_before:\n",
        "            save_step = intervals_now * self.interval\n",
        "            filepath = self.filepath.format(step=save_step)\n",
        "\n",
        "            if self.verbose > 0:\n",
        "                print(f'\\n[Callback] Guardando pesos para el paso {save_step}.')\n",
        "\n",
        "            self.model.save_weights(filepath, overwrite=True)\n",
        "            self.last_saved_at_step = absolute_step\n",
        "\n",
        "# Dado que usamos checkpoints, buscamos los ficheros, si los hubiera, para reanudar. Tendremos que recalcular el ε y los steps restantes.\n",
        "WEIGHTS_PREFIX = f'dqn_{env_name}_weights'\n",
        "checkpoint_pattern = re.compile(f\"^{WEIGHTS_PREFIX}_(\\\\d+)\\\\.h5f\\\\.index$\")\n",
        "latest_step = -1\n",
        "latest_weights_file = None\n",
        "\n",
        "print(f\"Buscando checkpoints en Google Drive\")\n",
        "for filename in os.listdir():\n",
        "    match = checkpoint_pattern.match(filename)\n",
        "    if match:\n",
        "        step = int(match.group(1))\n",
        "        if step > latest_step:\n",
        "            latest_step = step\n",
        "            # Guardamos el nombre base del fichero, sin la extensión .index\n",
        "            latest_weights_file = filename.replace('.index', '')\n",
        "\n",
        "completed_steps = 0\n",
        "\n",
        "# Si encontramos ficheros de checkpoint...\n",
        "if latest_weights_file:\n",
        "    completed_steps = latest_step\n",
        "    print(f\"Checkpoint encontrado: {latest_weights_file} (paso {completed_steps})\")\n",
        "\n",
        "    # Cargamos checkpoint\n",
        "    dqn.load_weights(latest_weights_file)\n",
        "\n",
        "    # Calcula el ε de reanudación\n",
        "    fraction_completed = min(1.0, float(completed_steps) / float(ANNEALING_STEPS))\n",
        "    current_epsilon = EPSILON_MAX - fraction_completed * (EPSILON_MAX - EPSILON_MIN)\n",
        "    remaining_annealing_steps = ANNEALING_STEPS - completed_steps\n",
        "\n",
        "    print(f\"Configurando política para reanudar: Epsilon inicial = {current_epsilon:.4f}, Pasos de decaimiento restantes = {remaining_annealing_steps}\")\n",
        "\n",
        "    # Crea la política final con los parámetros determinados automáticamente\n",
        "    final_policy = LinearAnnealedPolicy(EpsGreedyQPolicy(),\n",
        "                                      attr='eps',\n",
        "                                      value_max=current_epsilon,\n",
        "                                      value_min=EPSILON_MIN,\n",
        "                                      value_test=EPSILON_TEST,\n",
        "                                      nb_steps=remaining_annealing_steps)\n",
        "\n",
        "    # Asigna la política correcta al agente\n",
        "    dqn.policy = final_policy\n",
        "\n",
        "    # Además, no necesitamos hacer de nuevo todo el warmup ya que la red está en mitad del aprendizaje y meter experiencias aleatorias en este punto no va a ayudar\n",
        "    # Usaremos el batch size por defecto en DQN = 32\n",
        "    dqn.nb_steps_warmup = 32\n",
        "\n",
        "# Steps restantes\n",
        "remaining_steps = TOTAL_TRAINING_STEPS - completed_steps\n",
        "\n",
        "# Callbacks referenciando nuestro custom ModelIntervalCheckpoint\n",
        "callbacks = [StatefulModelIntervalCheckpoint(checkpoint_weights_filename, interval=25000, initial_steps=completed_steps, verbose=1)]\n",
        "callbacks += [FileLogger(log_filename, interval=100)]\n",
        "\n",
        "if remaining_steps > 0:\n",
        "    # Entrenamos\n",
        "    dqn.fit(env, callbacks=callbacks, nb_steps=remaining_steps, log_interval=10000)\n",
        "\n",
        "    # Guardamos pesos\n",
        "    dqn.save_weights(weights_filename, overwrite=True)\n",
        "else:\n",
        "    print(\"\\nEl entrenamiento ya se había completado. No hay más pasos que entrenar.\")\n"
      ]
    },
    {
      "cell_type": "code",
      "execution_count": 9,
      "metadata": {
        "id": "OHYryKd1Gb2b",
        "colab": {
          "base_uri": "https://localhost:8080/"
        },
        "outputId": "6fdb9e7e-5bdf-433e-b99d-4a0cf2bebef8"
      },
      "outputs": [
        {
          "output_type": "stream",
          "name": "stdout",
          "text": [
            "Testing for 10 episodes ...\n",
            "Episode 1: reward: 10.000, steps: 511\n",
            "Episode 2: reward: 20.000, steps: 1026\n",
            "Episode 3: reward: 17.000, steps: 990\n",
            "Episode 4: reward: 19.000, steps: 877\n",
            "Episode 5: reward: 21.000, steps: 803\n",
            "Episode 6: reward: 29.000, steps: 1179\n",
            "Episode 7: reward: 29.000, steps: 1114\n",
            "Episode 8: reward: 11.000, steps: 605\n",
            "Episode 9: reward: 24.000, steps: 1089\n",
            "Episode 10: reward: 16.000, steps: 784\n"
          ]
        },
        {
          "output_type": "execute_result",
          "data": {
            "text/plain": [
              "<keras.callbacks.History at 0x7bc54f81a490>"
            ]
          },
          "metadata": {},
          "execution_count": 9
        }
      ],
      "source": [
        "# Testing part to calculate the mean reward\n",
        "weights_filename = 'dqn_{}_weights.h5f'.format(env_name)\n",
        "dqn.load_weights(weights_filename)\n",
        "dqn.test(env, nb_episodes=10, visualize=False)"
      ]
    },
    {
      "cell_type": "markdown",
      "metadata": {
        "id": "-NAlu8b1Gb2b"
      },
      "source": [
        "3. Justificación de los parámetros seleccionados y de los resultados obtenidos"
      ]
    },
    {
      "cell_type": "markdown",
      "source": [
        "---"
      ],
      "metadata": {
        "id": "ANFQiicXK3sO"
      }
    },
    {
      "cell_type": "markdown",
      "source": [
        "**TODO: Esto es solo un \"brain dump\" para empezar el trabajo y poder colaborar. Habría que redactar en condiciones.**\n",
        "\n",
        "Inicialmente hemos seleccionado la arquitectura de red neuronal canónica de DeepMind para los juegos de Atari descrita en Mnih et al. (2015).\n",
        "\n",
        "Dado que el juego es Spade Invaders, el cual es relativamente simple, podríamos simplificar la red y quedarnos con dos capas convolucionales para que el tiempo de entrenamiento baje y aún así podría ser suficiente para alcanzar los 20 puntos de recompensa (aunque su techo de rendimiento sería más bajo, obviamente). Decidimos de momento continuar con esta arquitectura típica.\n",
        "\n",
        "Con respecto a los hiperparámetros elegidos de DQN, empezamos con los mostrados en en Mnih et al. (2015):\n",
        "\n",
        "*   Memoria (limit): La memoria del paper almacenaba el último millón de frames. Quizás se pueda reducir para solo almacenar los últimos 100k o 200k, ya que un millón puede ser overkill.\n",
        "*   Política de Exploración (ε y nb_steps): El ε va de 1.0 a 0.1 en 1 millón de pasos. De nuevo, quizás se pueda reducir de nuevo de pasos que el agente pasará explorando a 100k o 200k. Existe el riesgo de que el algoritmo se quede atascado en óptimos locales, no llegando a la solución óptima, así que habría que probar.\n",
        "*   Agente DQN (nb_steps_warmup y target_model_update): Empezamos con 50k pasos aleatorios en memoria antes de empezar a entrenar y actualizamos la target network cada 10k pasos. Se podría probar con menos pasos aleatorios para empezar, aunque eso puede incrementar el sesgo del algoritmo al empezar con una experiencia muy corta, y actualizar la target network más frecuentemente, aunque eso podría ocasionar inestabilidad en el aprendizaje.\n",
        "*   Compilación (learning_rate): Este parámetro habrá que ajustarlo en base a como se va actualizando el valor de recompensa durante el entrenamiento. El valor de 0.00025 es estándar y suele funcionar bien pero si vemos que la recompensa no sube o sube muy lentamente podríamos subirlo a 0.0005. Al contrario, si la recompensa oscila mucho, bajarlo a 0.0001 puede ser una opción.\n",
        "\n",
        "<br>\n",
        "\n",
        "**Experimento 1: Red canónica y Algoritmo DQN siguiendo valores del paper**\n",
        "\n",
        "Tras un primer entrenamiento, notamos que el aprendizaje está siendo inestable y la recompensa está estancada, oscilando entre 9 y 11, sin mostrar una progresión positiva. Sin embargo, a pesar de ese estancamiento, observamos que los valores de mean_q crecen, lo cual parece indicar una sobreestimación del valor Q. Dado que el MAE también está creciendo progresivamente con cada episodio, parece ser que la red se está volviendo demasiado optimista sobre las recompensas que puede obtener mientras que la realidad no lo refleja.\n",
        "\n",
        "En base a esto, decidimos parar el entrenamiento tras el primer checkpoint de 250k steps.\n",
        "\n",
        "Parece obvio que el aprendizaje no está siendo efectivo con lo que probaremos a bajar la tasa de aprendizaje, de 0.00025 a 0.0001.\n",
        "\n",
        "* Nota: Existe un parámetro en la creación del DQNAgent **enable_double_dqn** que activa la **Doble DQN**. Tras leer algunos artículos como este: https://medium.com/@alfred.weirich/experiments-with-reinforcement-learning-cff75b7d783c parece claro que la doble DQN es ampliamente aceptada como una mejora sobre la DQN estandar para mitigar la sobreestimación del valor Q. La idea es simple: se usa la red principal para seleccionar la mejor acción futura, pero se usa la target network para evaluar el valor de esa acción. Esto rompe el ciclo de retroalimentación que causa la sobreestimación. Aún así, la mantendremos deshabilitada por el momento para mejorar las recompensas modificando hiperparámetros / características de la red, continuando con el enfoque iterativo.\n",
        "\n",
        "<br>\n",
        "\n",
        "*Traza del primer entrenamiento:*\n",
        "\n",
        "\n",
        "Training for 1750000 steps ...\n",
        "Interval 1 (0 steps performed)\n",
        "   26/10000 [..............................] - ETA: 40s - reward: 0.0000e+00\n",
        "\n",
        "10000/10000 [==============================] - 47s 5ms/step - reward: 0.0133\n",
        "15 episodes - episode_reward: 8.533 [5.000, 13.000] - ale.lives: 2.129\n",
        "\n",
        "Interval 2 (10000 steps performed)\n",
        "10000/10000 [==============================] - 45s 4ms/step - reward: 0.0111\n",
        "17 episodes - episode_reward: 6.824 [3.000, 16.000] - ale.lives: 2.161\n",
        "\n",
        "Interval 3 (20000 steps performed)\n",
        "10000/10000 [==============================] - 45s 5ms/step - reward: 0.0121\n",
        "15 episodes - episode_reward: 7.600 [3.000, 14.000] - ale.lives: 2.073\n",
        "\n",
        "Interval 4 (30000 steps performed)\n",
        "10000/10000 [==============================] - 46s 5ms/step - reward: 0.0157\n",
        "16 episodes - episode_reward: 10.125 [4.000, 23.000] - ale.lives: 2.054\n",
        "\n",
        "Interval 5 (40000 steps performed)\n",
        "10000/10000 [==============================] - 45s 5ms/step - reward: 0.0140\n",
        "14 episodes - episode_reward: 9.786 [5.000, 17.000] - ale.lives: 2.173\n",
        "\n",
        "Interval 6 (50000 steps performed)\n",
        "10000/10000 [==============================] - 458s 46ms/step - reward: 0.0138\n",
        "14 episodes - episode_reward: 9.857 [5.000, 21.000] - loss: 0.006 - mae: 0.028 - mean_q: 0.038 - mean_eps: 0.951 - ale.lives: 1.995\n",
        "\n",
        "Interval 7 (60000 steps performed)\n",
        "10000/10000 [==============================] - 457s 46ms/step - reward: 0.0149\n",
        "14 episodes - episode_reward: 10.643 [5.000, 25.000] - loss: 0.007 - mae: 0.051 - mean_q: 0.065 - mean_eps: 0.942 - ale.lives: 2.061\n",
        "\n",
        "Interval 8 (70000 steps performed)\n",
        "10000/10000 [==============================] - 462s 46ms/step - reward: 0.0143\n",
        "17 episodes - episode_reward: 8.353 [4.000, 19.000] - loss: 0.006 - mae: 0.070 - mean_q: 0.088 - mean_eps: 0.933 - ale.lives: 2.056\n",
        "\n",
        "...\n",
        "\n",
        "Interval 18 (170000 steps performed)\n",
        "10000/10000 [==============================] - 490s 49ms/step - reward: 0.0133\n",
        "15 episodes - episode_reward: 9.267 [3.000, 22.000] - loss: 0.007 - mae: 0.278 - mean_q: 0.346 - mean_eps: 0.843 - ale.lives: 1.940\n",
        "\n",
        "Interval 19 (180000 steps performed)\n",
        "10000/10000 [==============================] - 499s 50ms/step - reward: 0.0132\n",
        "15 episodes - episode_reward: 8.933 [3.000, 15.000] - loss: 0.007 - mae: 0.300 - mean_q: 0.372 - mean_eps: 0.834 - ale.lives: 2.158\n",
        "\n",
        "Interval 20 (190000 steps performed)\n",
        "10000/10000 [==============================] - 506s 51ms/step - reward: 0.0145\n",
        "15 episodes - episode_reward: 9.067 [3.000, 22.000] - loss: 0.007 - mae: 0.327 - mean_q: 0.407 - mean_eps: 0.825 - ale.lives: 2.167\n",
        "\n",
        "Interval 21 (200000 steps performed)\n",
        "10000/10000 [==============================] - 515s 52ms/step - reward: 0.0144\n",
        "14 episodes - episode_reward: 10.357 [4.000, 21.000] - loss: 0.007 - mae: 0.342 - mean_q: 0.426 - mean_eps: 0.816 - ale.lives: 2.032\n",
        "\n",
        "Interval 22 (210000 steps performed)\n",
        "10000/10000 [==============================] - 515s 51ms/step - reward: 0.0145\n",
        "15 episodes - episode_reward: 10.600 [6.000, 19.000] - loss: 0.009 - mae: 0.377 - mean_q: 0.469 - mean_eps: 0.807 - ale.lives: 2.119\n",
        "\n",
        "Interval 23 (220000 steps performed)\n",
        "10000/10000 [==============================] - 495s 49ms/step - reward: 0.0156\n",
        "14 episodes - episode_reward: 11.000 [3.000, 27.000] - loss: 0.009 - mae: 0.419 - mean_q: 0.520 - mean_eps: 0.798 - ale.lives: 2.182\n",
        "\n",
        "Interval 24 (230000 steps performed)\n",
        "10000/10000 [==============================] - 500s 50ms/step - reward: 0.0134\n",
        "15 episodes - episode_reward: 9.067 [4.000, 18.000] - loss: 0.010 - mae: 0.449 - mean_q: 0.556 - mean_eps: 0.789 - ale.lives: 2.107\n",
        "\n",
        "Interval 25 (240000 steps performed)\n",
        "10000/10000 [==============================] - 503s 50ms/step - reward: 0.0161\n",
        "14 episodes - episode_reward: 10.643 [5.000, 18.000] - loss: 0.010 - mae: 0.470 - mean_q: 0.583 - mean_eps: 0.780 - ale.lives: 2.093\n",
        "\n",
        "<br>\n",
        "\n",
        "**Experimento 2: Cambio de la tasa de aprendizaje a 0.0001 para que las actualizaciones sean más pequeñas y constantes**\n",
        "\n",
        "Tras un primer entrenamiento completo de la Vanilla DQN, esta es la recompensa obtenida en test:\n",
        "\n",
        "Testing for 10 episodes ...\n",
        "\n",
        "Episode 1: reward: 10.000, steps: 511 <br>\n",
        "Episode 2: reward: 20.000, steps: 1026 <br>\n",
        "Episode 3: reward: 17.000, steps: 990 <br>\n",
        "Episode 4: reward: 19.000, steps: 877 <br>\n",
        "Episode 5: reward: 21.000, steps: 803 <br>\n",
        "Episode 6: reward: 29.000, steps: 1179 <br>\n",
        "Episode 7: reward: 29.000, steps: 1114 <br>\n",
        "Episode 8: reward: 11.000, steps: 605 <br>\n",
        "Episode 9: reward: 24.000, steps: 1089 <br>\n",
        "Episode 10: reward: 16.000, steps: 784\n",
        "\n",
        "Recompensa Media: 19.6 <br>\n",
        "Desviación estandar: ~6.7\n",
        "\n",
        "Como vemos, la media de recompensas (19.6) se queda ligeramente por debajo del objetivo (20) pero la desviación estándar es significativa (~6.7), lo cuál indica una inconsistencia en el rendimiento del agente, capaz de conseguir recompensas de 29 puntos en algunos episodios y solo 10 o 11 en otros.\n",
        "\n",
        "Más en detalle, en 4 de los 10 episodios, el agente no solo cumple, sino que supera con creces el objetivo, con buenas puntuaciones de 20, 21, 24 y hasta 29. Esto demuestra que la red neuronal ha aprendido una política muy efectiva y es capaz de jugar a un nivel alto.\n",
        "\n",
        "Por otro lado, en el 20% de las partidas, sufre fallos catastróficos, con puntuaciones de 10 y 11. Esto indica que su estrategia no es robusta. Hay ciertas situaciones o secuencias de eventos que el agente no sabe cómo manejar y que le llevan a una muerte prematura.\n",
        "\n",
        "Hay una correlación casi perfecta entre el número de pasos y la recompensa. Las partidas de 29 puntos duraron más de 1100 pasos, mientras que las de 10-11 puntos apenas superaron los 600. Esto es lógico: el agente ha aprendido que la estrategia principal para puntuar es, simplemente, sobrevivir más tiempo.\n",
        "\n",
        "En conclusión, parece ser que la fase de exploración se atascó en un óptimo local, lo cuál le impidio encontrar una estrategia más óptima. En otros experimentos probaremos distintas maneras de optimizar para que la política sea más estable y confiable, y no tan inconsistente, capaz de lo mejor y de lo peor.\n",
        "\n",
        "\n"
      ],
      "metadata": {
        "id": "IRgP9dBHbYl6"
      }
    }
  ],
  "metadata": {
    "kernelspec": {
      "display_name": "Python 3",
      "name": "python3"
    },
    "language_info": {
      "codemirror_mode": {
        "name": "ipython",
        "version": 3
      },
      "file_extension": ".py",
      "mimetype": "text/x-python",
      "name": "python",
      "nbconvert_exporter": "python",
      "pygments_lexer": "ipython3",
      "version": "3.7.9"
    },
    "colab": {
      "provenance": [],
      "include_colab_link": true
    }
  },
  "nbformat": 4,
  "nbformat_minor": 0
}