{
 "cells": [
  {
   "cell_type": "markdown",
   "metadata": {},
   "source": [
    "<img src=\"../img/viu_logo.png\" width=\"200\">\n",
    "\n",
    "# 01MIAR - Actividad Whitepapers"
   ]
  },
  {
   "cell_type": "markdown",
   "metadata": {},
   "source": [
    "### “Pedregosa et al., Scikit-learn: Machine Learning in Python, Journal of Machine Learning Research, 2011”.\n"
   ]
  },
  {
   "cell_type": "markdown",
   "metadata": {},
   "source": [
    "## Introducción\n",
    "\n",
    "En la última década, el crecimiento exponencial de los datos y el avance en el poder de cómputo han impulsado el desarrollo y la aplicación de modelos de Machine Learning (ML) en una gran variedad de áreas, desde la medicina hasta las finanzas. Estos modelos permiten extraer patrones y realizar predicciones a partir de datos complejos, ayudando a resolver problemas que anteriormente eran intratables.\n",
    "\n",
    "En este contexto, el procesamiento de datos es una de las fases más críticas en el flujo de trabajo de Machine Learning. Las etapas de limpieza, normalización, selección de características y preparación de datos son esenciales para que los modelos aprendan y generalicen correctamente. Python se ha consolidado como uno de los lenguajes de programación preferidos para el desarrollo de modelos de ML, en parte debido a la accesibilidad y flexibilidad que ofrecen sus bibliotecas especializadas en procesamiento de datos, tales como NumPy, Pandas y Scikit-Learn.\n",
    "\n",
    "En particular, la biblioteca Scikit-Learn, desarrollada por Pedregosa et al. y presentada en el artículo \"Scikit-learn: Machine Learning in Python\" (2011), se ha convertido en una herramienta clave en el ecosistema de Python. Scikit-Learn ofrece una amplia variedad de algoritmos de ML, así como funcionalidades para el preprocesamiento de datos, selección de modelos y validación cruzada, lo que la convierte en una opción ideal tanto para principiantes como para expertos en ML. Su diseño modular y su integración con otras bibliotecas de procesamiento de datos, como NumPy y SciPy, facilitan su uso en tareas de ciencia de datos y aprendizaje automático, desde experimentos académicos hasta aplicaciones en la industria.\n",
    "\n",
    "Este notebook se centra en explorar las funcionalidades de Scikit-Learn relacionadas con el procesamiento de datos, siguiendo los conceptos y ejemplos presentados en el artículo de Pedregosa et al. A través de ejemplos prácticos, abordaremos cómo utilizar Scikit-Learn para realizar las etapas de preprocesamiento y selección de modelos, y compararemos el rendimiento de distintos algoritmos de clasificación. De este modo, se pretende ilustrar cómo Python, junto con sus librerías de procesamiento de datos, se ha consolidado como una herramienta fundamental en el ámbito de la Inteligencia Artificial y el Machine Learning."
   ]
  },
  {
   "cell_type": "markdown",
   "metadata": {},
   "source": [
    "## Resumen del artículo\n",
    "\n",
    "El artículo \"Scikit-learn: Machine Learning in Python\" de Pedregosa et al. (2011) describe el desarrollo, diseño y funcionalidades de Scikit-Learn, una biblioteca de Machine Learning para Python. La biblioteca fue creada con el objetivo de ofrecer una interfaz simple, eficiente y consistente para el desarrollo de modelos de aprendizaje automático, siendo accesible tanto para investigadores como para profesionales de la industria. Scikit-Learn ha ganado popularidad gracias a su integración con otras bibliotecas de Python como NumPy, SciPy y matplotlib, que proporcionan una base sólida para el procesamiento de datos y la visualización.\n",
    "\n",
    "Los principales aspectos abordados en el artículo incluyen:\n",
    "\n",
    "- **Modularidad y Estandarización**: La arquitectura de Scikit-Learn se basa en objetos modulares, con interfaces comunes para la mayoría de los algoritmos de aprendizaje automático. Esto permite a los usuarios cambiar rápidamente entre algoritmos y experimentar con diferentes modelos sin necesidad de modificar significativamente el código. Todos los modelos en Scikit-Learn siguen una interfaz coherente (fit, predict, transform), lo que facilita su uso y su comprensión.\n",
    "\n",
    "- **Funcionalidades de Preprocesamiento**: Scikit-Learn ofrece un conjunto de herramientas para el preprocesamiento de datos, que incluye técnicas como el escalado, la normalización, la imputación de valores perdidos y la codificación de variables categóricas. Estas técnicas son esenciales para preparar los datos antes de aplicarlos a los modelos de ML y mejoran la precisión y la estabilidad de los algoritmos.\n",
    "\n",
    "- **Selección de Modelos y Validación Cruzada**: El artículo destaca las funciones de selección de modelos y validación cruzada de Scikit-Learn, que permiten evaluar el rendimiento de diferentes modelos y seleccionar el que mejor se adapte a los datos. La validación cruzada es fundamental para evitar el sobreajuste y obtener estimaciones confiables de la precisión del modelo.\n",
    "\n",
    "- **Amplia Variedad de Algoritmos de Machine Learning**: Scikit-Learn incluye una gran variedad de algoritmos de aprendizaje supervisado y no supervisado, como regresión lineal, máquinas de soporte vectorial, vecinos más cercanos, árboles de decisión y métodos de ensamble. Esta diversidad permite que los usuarios experimenten y comparen diferentes enfoques, ajustando cada modelo a las características particulares de sus datos.\n",
    "\n",
    "- **Compatibilidad y Escalabilidad**: Al estar construido sobre NumPy y SciPy, Scikit-Learn permite el procesamiento eficiente de datos en matrices multidimensionales y es compatible con operaciones vectorizadas, lo que reduce el tiempo de cómputo y hace que la biblioteca sea adecuada para trabajar con grandes volúmenes de datos.\n",
    "\n",
    "El artículo concluye que Scikit-Learn no solo proporciona una infraestructura sólida para construir y evaluar modelos de Machine Learning, sino que también contribuye a la reproducibilidad y accesibilidad del aprendizaje automático, haciendo que sea más sencillo aplicar técnicas avanzadas en una variedad de dominios. Gracias a su diseño bien estructurado y a su rica colección de algoritmos y utilidades, Scikit-Learn sigue siendo una de las herramientas más influyentes y utilizadas en el ecosistema de Python para Machine Learning."
   ]
  },
  {
   "cell_type": "markdown",
   "metadata": {},
   "source": [
    "## Ejemplos"
   ]
  },
  {
   "cell_type": "code",
   "execution_count": 25,
   "metadata": {},
   "outputs": [],
   "source": [
    "# Importación de NumPy, Pandas y Scikit-learn\n",
    "import numpy as np\n",
    "import pandas as pd\n",
    "from sklearn import datasets, model_selection, preprocessing"
   ]
  },
  {
   "cell_type": "markdown",
   "metadata": {},
   "source": [
    "### Carga y Preprocesamiento de Datos\n",
    "\n",
    "En el aprendizaje automático, el preprocesamiento de datos es una etapa crucial que garantiza que los datos sean consistentes, relevantes y adecuados para los algoritmos. Scikit-Learn proporciona varias herramientas para realizar estas tareas de preprocesamiento, tales como escalado, normalización y codificación de variables categóricas, entre otras. A continuación, cargaremos un conjunto de datos de ejemplo y demostraremos algunas técnicas de preprocesamiento con Scikit-Learn.\n",
    "\n",
    "Para este ejercicio, usaremos el conjunto de datos Iris, que es una colección clásica en la que se registran diferentes características de tres tipos de flores Iris. Las características incluyen el largo y el ancho del sépalo y el pétalo. Este conjunto es útil para tareas de clasificación y análisis."
   ]
  },
  {
   "cell_type": "markdown",
   "metadata": {},
   "source": [
    "1. **Carga del Conjunto de Datos**\n",
    "\n",
    "Scikit-Learn incluye varios conjuntos de datos de prueba, como el conjunto Iris, que se pueden cargar directamente para experimentación y desarrollo."
   ]
  },
  {
   "cell_type": "code",
   "execution_count": 17,
   "metadata": {},
   "outputs": [
    {
     "name": "stdout",
     "output_type": "stream",
     "text": [
      "Características (primeras 5 filas):\n",
      " [[5.1 3.5 1.4 0.2]\n",
      " [4.9 3.  1.4 0.2]\n",
      " [4.7 3.2 1.3 0.2]\n",
      " [4.6 3.1 1.5 0.2]\n",
      " [5.  3.6 1.4 0.2]]\n",
      "Etiquetas (primeras 5 filas): [0 0 0 0 0]\n"
     ]
    }
   ],
   "source": [
    "# Cargar el conjunto de datos Iris\n",
    "iris = datasets.load_iris()\n",
    "X, y = iris.data, iris.target\n",
    "\n",
    "# Visualización rápida de las características y las etiquetas\n",
    "print(\"Características (primeras 5 filas):\\n\", X[:5])\n",
    "print(\"Etiquetas (primeras 5 filas):\", y[:5])"
   ]
  },
  {
   "cell_type": "markdown",
   "metadata": {},
   "source": [
    "2. **Escalado de Datos**\n",
    "\n",
    "El escalado de datos es una técnica de preprocesamiento que ajusta las características a una escala común, lo cual es especialmente importante para algoritmos sensibles a las escalas, como el k-vecinos más cercanos y la regresión logística. Utilizaremos StandardScaler de Scikit-Learn, que ajusta los datos a una media de 0 y una desviación estándar de 1."
   ]
  },
  {
   "cell_type": "code",
   "execution_count": 4,
   "metadata": {},
   "outputs": [
    {
     "name": "stdout",
     "output_type": "stream",
     "text": [
      "Características escaladas (primeras 5 filas):\n",
      " [[-0.90068117  1.01900435 -1.34022653 -1.3154443 ]\n",
      " [-1.14301691 -0.13197948 -1.34022653 -1.3154443 ]\n",
      " [-1.38535265  0.32841405 -1.39706395 -1.3154443 ]\n",
      " [-1.50652052  0.09821729 -1.2833891  -1.3154443 ]\n",
      " [-1.02184904  1.24920112 -1.34022653 -1.3154443 ]]\n"
     ]
    }
   ],
   "source": [
    "from sklearn.preprocessing import StandardScaler\n",
    "\n",
    "# Escalar los datos\n",
    "scaler = StandardScaler()\n",
    "X_scaled = scaler.fit_transform(X)\n",
    "\n",
    "print(\"Características escaladas (primeras 5 filas):\\n\", X_scaled[:5])"
   ]
  },
  {
   "cell_type": "markdown",
   "metadata": {},
   "source": [
    "3. **Normalización de Datos**\n",
    "\n",
    "La normalización ajusta los valores de los datos para que todos estén en el rango [0, 1] o [-1, 1], dependiendo de la técnica empleada. Esto es útil cuando se quiere reducir la influencia de las diferentes escalas de las características. Usaremos MinMaxScaler para escalar los datos en el rango [0, 1]."
   ]
  },
  {
   "cell_type": "code",
   "execution_count": 5,
   "metadata": {},
   "outputs": [
    {
     "name": "stdout",
     "output_type": "stream",
     "text": [
      "Características normalizadas (primeras 5 filas):\n",
      " [[0.22222222 0.625      0.06779661 0.04166667]\n",
      " [0.16666667 0.41666667 0.06779661 0.04166667]\n",
      " [0.11111111 0.5        0.05084746 0.04166667]\n",
      " [0.08333333 0.45833333 0.08474576 0.04166667]\n",
      " [0.19444444 0.66666667 0.06779661 0.04166667]]\n"
     ]
    }
   ],
   "source": [
    "from sklearn.preprocessing import MinMaxScaler\n",
    "\n",
    "# Normalizar los datos al rango [0, 1]\n",
    "normalizer = MinMaxScaler()\n",
    "X_normalized = normalizer.fit_transform(X)\n",
    "\n",
    "print(\"Características normalizadas (primeras 5 filas):\\n\", X_normalized[:5])"
   ]
  },
  {
   "cell_type": "markdown",
   "metadata": {},
   "source": [
    "4. **Codificación de Variables Categóricas**\n",
    "\n",
    "En conjuntos de datos que contienen variables categóricas (por ejemplo, nombres de ciudades o tipos de productos), es necesario transformar esas variables en un formato numérico que los algoritmos puedan procesar. Aunque el conjunto Iris no tiene variables categóricas, mostraremos cómo se haría usando OneHotEncoder."
   ]
  },
  {
   "cell_type": "code",
   "execution_count": 20,
   "metadata": {},
   "outputs": [
    {
     "name": "stdout",
     "output_type": "stream",
     "text": [
      "Etiquetas codificadas con One-Hot (primeras 5 filas):\n",
      " [[1. 0. 0.]\n",
      " [1. 0. 0.]\n",
      " [1. 0. 0.]\n",
      " [1. 0. 0.]\n",
      " [1. 0. 0.]]\n"
     ]
    }
   ],
   "source": [
    "from sklearn.preprocessing import OneHotEncoder\n",
    "\n",
    "# Ejemplo de codificación One-Hot\n",
    "encoder = OneHotEncoder(sparse_output = False)\n",
    "# Supongamos que 'y' es una variable categórica con valores 0, 1, 2\n",
    "y_encoded = encoder.fit_transform(y.reshape(-1, 1))\n",
    "\n",
    "print(\"Etiquetas codificadas con One-Hot (primeras 5 filas):\\n\", y_encoded[:5])"
   ]
  },
  {
   "cell_type": "markdown",
   "metadata": {},
   "source": [
    "### Selección de Modelo y Validación Cruzada\n",
    "\n",
    "La selección de modelos y la validación cruzada son pasos fundamentales en el proceso de Machine Learning. Nos ayudan a elegir el modelo que mejor se adapta a los datos y a estimar el rendimiento real del modelo en datos no vistos, evitando problemas como el sobreajuste o subajuste.\n",
    "\n",
    "En este apartado, utilizaremos el conjunto de datos Iris que preprocesamos anteriormente para comparar dos algoritmos de clasificación:\n",
    "\n",
    "- k-vecinos más cercanos (KNeighborsClassifier)\n",
    "\n",
    "- Árbol de decisión (DecisionTreeClassifier)\n",
    "\n",
    "Utilizaremos la validación cruzada para evaluar el rendimiento de ambos modelos y seleccionar el mejor. Scikit-Learn facilita este proceso mediante el módulo model_selection, que incluye la función cross_val_score para realizar validación cruzada de forma sencilla."
   ]
  },
  {
   "cell_type": "markdown",
   "metadata": {},
   "source": [
    "1. **División del Conjunto de Datos**\n",
    "\n",
    "Primero, dividiremos el conjunto de datos en conjuntos de entrenamiento y prueba para simular cómo se comportará nuestro modelo en datos nuevos."
   ]
  },
  {
   "cell_type": "code",
   "execution_count": 8,
   "metadata": {},
   "outputs": [
    {
     "name": "stdout",
     "output_type": "stream",
     "text": [
      "Tamaño del conjunto de entrenamiento: (105, 4)\n",
      "Tamaño del conjunto de prueba: (45, 4)\n"
     ]
    }
   ],
   "source": [
    "from sklearn.model_selection import train_test_split\n",
    "\n",
    "# Dividir los datos en conjunto de entrenamiento y prueba\n",
    "X_train, X_test, y_train, y_test = train_test_split(X_scaled, y, test_size=0.3, random_state=42)\n",
    "print(\"Tamaño del conjunto de entrenamiento:\", X_train.shape)\n",
    "print(\"Tamaño del conjunto de prueba:\", X_test.shape)"
   ]
  },
  {
   "cell_type": "markdown",
   "metadata": {},
   "source": [
    "2. **Entrenamiento y Validación del Modelo con k-Vecinos Más Cercanos (KNN)**\n",
    "\n",
    "El clasificador de k-vecinos más cercanos (KNN) es un algoritmo de aprendizaje supervisado que clasifica una instancia basada en la clase mayoritaria de sus vecinos más cercanos. Evaluaremos el rendimiento de este modelo utilizando validación cruzada con 5 particiones (5-fold cross-validation)."
   ]
  },
  {
   "cell_type": "code",
   "execution_count": 9,
   "metadata": {},
   "outputs": [
    {
     "name": "stdout",
     "output_type": "stream",
     "text": [
      "Puntajes de validación cruzada para KNN: [0.95238095 0.95238095 0.85714286 1.         0.95238095]\n",
      "Precisión promedio de KNN: 0.9428571428571428\n"
     ]
    }
   ],
   "source": [
    "from sklearn.neighbors import KNeighborsClassifier\n",
    "from sklearn.model_selection import cross_val_score\n",
    "\n",
    "# Crear un modelo de K-Vecinos Más Cercanos\n",
    "knn = KNeighborsClassifier(n_neighbors=3)\n",
    "\n",
    "# Realizar validación cruzada con 5 particiones\n",
    "scores_knn = cross_val_score(knn, X_train, y_train, cv=5)\n",
    "\n",
    "print(\"Puntajes de validación cruzada para KNN:\", scores_knn)\n",
    "print(\"Precisión promedio de KNN:\", scores_knn.mean())"
   ]
  },
  {
   "cell_type": "markdown",
   "metadata": {},
   "source": [
    "3. **Entrenamiento y Validación del Modelo con Árbol de Decisión**\n",
    "\n",
    "El clasificador de árbol de decisión es un modelo que segmenta el espacio de las características mediante reglas de decisión, lo que permite realizar predicciones basadas en las condiciones aprendidas en los datos de entrenamiento. Este modelo también será evaluado mediante validación cruzada."
   ]
  },
  {
   "cell_type": "code",
   "execution_count": 10,
   "metadata": {},
   "outputs": [
    {
     "name": "stdout",
     "output_type": "stream",
     "text": [
      "Puntajes de validación cruzada para Árbol de Decisión: [0.95238095 0.9047619  0.9047619  0.95238095 0.95238095]\n",
      "Precisión promedio del Árbol de Decisión: 0.9333333333333333\n"
     ]
    }
   ],
   "source": [
    "from sklearn.tree import DecisionTreeClassifier\n",
    "\n",
    "# Crear un modelo de Árbol de Decisión\n",
    "tree = DecisionTreeClassifier(random_state=42)\n",
    "\n",
    "# Realizar validación cruzada con 5 particiones\n",
    "scores_tree = cross_val_score(tree, X_train, y_train, cv=5)\n",
    "\n",
    "print(\"Puntajes de validación cruzada para Árbol de Decisión:\", scores_tree)\n",
    "print(\"Precisión promedio del Árbol de Decisión:\", scores_tree.mean())"
   ]
  },
  {
   "cell_type": "markdown",
   "metadata": {},
   "source": [
    "4. **Comparación de Resultados**\n",
    "\n",
    "Ahora que hemos evaluado ambos modelos, podemos comparar sus precisiones promedio obtenidas en la validación cruzada para ver cuál se adapta mejor a nuestros datos."
   ]
  },
  {
   "cell_type": "code",
   "execution_count": 11,
   "metadata": {},
   "outputs": [
    {
     "name": "stdout",
     "output_type": "stream",
     "text": [
      "Comparación de precisión promedio:\n",
      "K-Vecinos Más Cercanos: 0.9428571428571428\n",
      "Árbol de Decisión: 0.9333333333333333\n"
     ]
    }
   ],
   "source": [
    "print(\"Comparación de precisión promedio:\")\n",
    "print(\"K-Vecinos Más Cercanos:\", scores_knn.mean())\n",
    "print(\"Árbol de Decisión:\", scores_tree.mean())"
   ]
  },
  {
   "cell_type": "markdown",
   "metadata": {},
   "source": [
    "### Comparación de Modelos y Métricas de Evaluación\n",
    "\n",
    "Después de seleccionar el modelo con mejor rendimiento mediante validación cruzada, el siguiente paso es entrenarlo utilizando el conjunto completo de datos de entrenamiento y evaluar su desempeño final en el conjunto de prueba. Esto nos proporciona una estimación de cómo se comportará el modelo en datos nuevos y ayuda a validar la elección realizada en la etapa de selección de modelos.\n",
    "\n",
    "Para este ejercicio, supongamos que el modelo con mejor rendimiento fue el KNN. Entrenaremos este modelo en el conjunto de entrenamiento y evaluaremos su precisión y otras métricas de clasificación en el conjunto de prueba."
   ]
  },
  {
   "cell_type": "markdown",
   "metadata": {},
   "source": [
    "1. **Entrenamiento del Modelo Seleccionado**\n",
    "\n",
    "Entrenamos el modelo de KNN en los datos de entrenamiento completos para aprovechar toda la información disponible."
   ]
  },
  {
   "cell_type": "code",
   "execution_count": 22,
   "metadata": {},
   "outputs": [
    {
     "data": {
      "text/html": [
       "<style>#sk-container-id-2 {\n",
       "  /* Definition of color scheme common for light and dark mode */\n",
       "  --sklearn-color-text: black;\n",
       "  --sklearn-color-line: gray;\n",
       "  /* Definition of color scheme for unfitted estimators */\n",
       "  --sklearn-color-unfitted-level-0: #fff5e6;\n",
       "  --sklearn-color-unfitted-level-1: #f6e4d2;\n",
       "  --sklearn-color-unfitted-level-2: #ffe0b3;\n",
       "  --sklearn-color-unfitted-level-3: chocolate;\n",
       "  /* Definition of color scheme for fitted estimators */\n",
       "  --sklearn-color-fitted-level-0: #f0f8ff;\n",
       "  --sklearn-color-fitted-level-1: #d4ebff;\n",
       "  --sklearn-color-fitted-level-2: #b3dbfd;\n",
       "  --sklearn-color-fitted-level-3: cornflowerblue;\n",
       "\n",
       "  /* Specific color for light theme */\n",
       "  --sklearn-color-text-on-default-background: var(--sg-text-color, var(--theme-code-foreground, var(--jp-content-font-color1, black)));\n",
       "  --sklearn-color-background: var(--sg-background-color, var(--theme-background, var(--jp-layout-color0, white)));\n",
       "  --sklearn-color-border-box: var(--sg-text-color, var(--theme-code-foreground, var(--jp-content-font-color1, black)));\n",
       "  --sklearn-color-icon: #696969;\n",
       "\n",
       "  @media (prefers-color-scheme: dark) {\n",
       "    /* Redefinition of color scheme for dark theme */\n",
       "    --sklearn-color-text-on-default-background: var(--sg-text-color, var(--theme-code-foreground, var(--jp-content-font-color1, white)));\n",
       "    --sklearn-color-background: var(--sg-background-color, var(--theme-background, var(--jp-layout-color0, #111)));\n",
       "    --sklearn-color-border-box: var(--sg-text-color, var(--theme-code-foreground, var(--jp-content-font-color1, white)));\n",
       "    --sklearn-color-icon: #878787;\n",
       "  }\n",
       "}\n",
       "\n",
       "#sk-container-id-2 {\n",
       "  color: var(--sklearn-color-text);\n",
       "}\n",
       "\n",
       "#sk-container-id-2 pre {\n",
       "  padding: 0;\n",
       "}\n",
       "\n",
       "#sk-container-id-2 input.sk-hidden--visually {\n",
       "  border: 0;\n",
       "  clip: rect(1px 1px 1px 1px);\n",
       "  clip: rect(1px, 1px, 1px, 1px);\n",
       "  height: 1px;\n",
       "  margin: -1px;\n",
       "  overflow: hidden;\n",
       "  padding: 0;\n",
       "  position: absolute;\n",
       "  width: 1px;\n",
       "}\n",
       "\n",
       "#sk-container-id-2 div.sk-dashed-wrapped {\n",
       "  border: 1px dashed var(--sklearn-color-line);\n",
       "  margin: 0 0.4em 0.5em 0.4em;\n",
       "  box-sizing: border-box;\n",
       "  padding-bottom: 0.4em;\n",
       "  background-color: var(--sklearn-color-background);\n",
       "}\n",
       "\n",
       "#sk-container-id-2 div.sk-container {\n",
       "  /* jupyter's `normalize.less` sets `[hidden] { display: none; }`\n",
       "     but bootstrap.min.css set `[hidden] { display: none !important; }`\n",
       "     so we also need the `!important` here to be able to override the\n",
       "     default hidden behavior on the sphinx rendered scikit-learn.org.\n",
       "     See: https://github.com/scikit-learn/scikit-learn/issues/21755 */\n",
       "  display: inline-block !important;\n",
       "  position: relative;\n",
       "}\n",
       "\n",
       "#sk-container-id-2 div.sk-text-repr-fallback {\n",
       "  display: none;\n",
       "}\n",
       "\n",
       "div.sk-parallel-item,\n",
       "div.sk-serial,\n",
       "div.sk-item {\n",
       "  /* draw centered vertical line to link estimators */\n",
       "  background-image: linear-gradient(var(--sklearn-color-text-on-default-background), var(--sklearn-color-text-on-default-background));\n",
       "  background-size: 2px 100%;\n",
       "  background-repeat: no-repeat;\n",
       "  background-position: center center;\n",
       "}\n",
       "\n",
       "/* Parallel-specific style estimator block */\n",
       "\n",
       "#sk-container-id-2 div.sk-parallel-item::after {\n",
       "  content: \"\";\n",
       "  width: 100%;\n",
       "  border-bottom: 2px solid var(--sklearn-color-text-on-default-background);\n",
       "  flex-grow: 1;\n",
       "}\n",
       "\n",
       "#sk-container-id-2 div.sk-parallel {\n",
       "  display: flex;\n",
       "  align-items: stretch;\n",
       "  justify-content: center;\n",
       "  background-color: var(--sklearn-color-background);\n",
       "  position: relative;\n",
       "}\n",
       "\n",
       "#sk-container-id-2 div.sk-parallel-item {\n",
       "  display: flex;\n",
       "  flex-direction: column;\n",
       "}\n",
       "\n",
       "#sk-container-id-2 div.sk-parallel-item:first-child::after {\n",
       "  align-self: flex-end;\n",
       "  width: 50%;\n",
       "}\n",
       "\n",
       "#sk-container-id-2 div.sk-parallel-item:last-child::after {\n",
       "  align-self: flex-start;\n",
       "  width: 50%;\n",
       "}\n",
       "\n",
       "#sk-container-id-2 div.sk-parallel-item:only-child::after {\n",
       "  width: 0;\n",
       "}\n",
       "\n",
       "/* Serial-specific style estimator block */\n",
       "\n",
       "#sk-container-id-2 div.sk-serial {\n",
       "  display: flex;\n",
       "  flex-direction: column;\n",
       "  align-items: center;\n",
       "  background-color: var(--sklearn-color-background);\n",
       "  padding-right: 1em;\n",
       "  padding-left: 1em;\n",
       "}\n",
       "\n",
       "\n",
       "/* Toggleable style: style used for estimator/Pipeline/ColumnTransformer box that is\n",
       "clickable and can be expanded/collapsed.\n",
       "- Pipeline and ColumnTransformer use this feature and define the default style\n",
       "- Estimators will overwrite some part of the style using the `sk-estimator` class\n",
       "*/\n",
       "\n",
       "/* Pipeline and ColumnTransformer style (default) */\n",
       "\n",
       "#sk-container-id-2 div.sk-toggleable {\n",
       "  /* Default theme specific background. It is overwritten whether we have a\n",
       "  specific estimator or a Pipeline/ColumnTransformer */\n",
       "  background-color: var(--sklearn-color-background);\n",
       "}\n",
       "\n",
       "/* Toggleable label */\n",
       "#sk-container-id-2 label.sk-toggleable__label {\n",
       "  cursor: pointer;\n",
       "  display: block;\n",
       "  width: 100%;\n",
       "  margin-bottom: 0;\n",
       "  padding: 0.5em;\n",
       "  box-sizing: border-box;\n",
       "  text-align: center;\n",
       "}\n",
       "\n",
       "#sk-container-id-2 label.sk-toggleable__label-arrow:before {\n",
       "  /* Arrow on the left of the label */\n",
       "  content: \"▸\";\n",
       "  float: left;\n",
       "  margin-right: 0.25em;\n",
       "  color: var(--sklearn-color-icon);\n",
       "}\n",
       "\n",
       "#sk-container-id-2 label.sk-toggleable__label-arrow:hover:before {\n",
       "  color: var(--sklearn-color-text);\n",
       "}\n",
       "\n",
       "/* Toggleable content - dropdown */\n",
       "\n",
       "#sk-container-id-2 div.sk-toggleable__content {\n",
       "  max-height: 0;\n",
       "  max-width: 0;\n",
       "  overflow: hidden;\n",
       "  text-align: left;\n",
       "  /* unfitted */\n",
       "  background-color: var(--sklearn-color-unfitted-level-0);\n",
       "}\n",
       "\n",
       "#sk-container-id-2 div.sk-toggleable__content.fitted {\n",
       "  /* fitted */\n",
       "  background-color: var(--sklearn-color-fitted-level-0);\n",
       "}\n",
       "\n",
       "#sk-container-id-2 div.sk-toggleable__content pre {\n",
       "  margin: 0.2em;\n",
       "  border-radius: 0.25em;\n",
       "  color: var(--sklearn-color-text);\n",
       "  /* unfitted */\n",
       "  background-color: var(--sklearn-color-unfitted-level-0);\n",
       "}\n",
       "\n",
       "#sk-container-id-2 div.sk-toggleable__content.fitted pre {\n",
       "  /* unfitted */\n",
       "  background-color: var(--sklearn-color-fitted-level-0);\n",
       "}\n",
       "\n",
       "#sk-container-id-2 input.sk-toggleable__control:checked~div.sk-toggleable__content {\n",
       "  /* Expand drop-down */\n",
       "  max-height: 200px;\n",
       "  max-width: 100%;\n",
       "  overflow: auto;\n",
       "}\n",
       "\n",
       "#sk-container-id-2 input.sk-toggleable__control:checked~label.sk-toggleable__label-arrow:before {\n",
       "  content: \"▾\";\n",
       "}\n",
       "\n",
       "/* Pipeline/ColumnTransformer-specific style */\n",
       "\n",
       "#sk-container-id-2 div.sk-label input.sk-toggleable__control:checked~label.sk-toggleable__label {\n",
       "  color: var(--sklearn-color-text);\n",
       "  background-color: var(--sklearn-color-unfitted-level-2);\n",
       "}\n",
       "\n",
       "#sk-container-id-2 div.sk-label.fitted input.sk-toggleable__control:checked~label.sk-toggleable__label {\n",
       "  background-color: var(--sklearn-color-fitted-level-2);\n",
       "}\n",
       "\n",
       "/* Estimator-specific style */\n",
       "\n",
       "/* Colorize estimator box */\n",
       "#sk-container-id-2 div.sk-estimator input.sk-toggleable__control:checked~label.sk-toggleable__label {\n",
       "  /* unfitted */\n",
       "  background-color: var(--sklearn-color-unfitted-level-2);\n",
       "}\n",
       "\n",
       "#sk-container-id-2 div.sk-estimator.fitted input.sk-toggleable__control:checked~label.sk-toggleable__label {\n",
       "  /* fitted */\n",
       "  background-color: var(--sklearn-color-fitted-level-2);\n",
       "}\n",
       "\n",
       "#sk-container-id-2 div.sk-label label.sk-toggleable__label,\n",
       "#sk-container-id-2 div.sk-label label {\n",
       "  /* The background is the default theme color */\n",
       "  color: var(--sklearn-color-text-on-default-background);\n",
       "}\n",
       "\n",
       "/* On hover, darken the color of the background */\n",
       "#sk-container-id-2 div.sk-label:hover label.sk-toggleable__label {\n",
       "  color: var(--sklearn-color-text);\n",
       "  background-color: var(--sklearn-color-unfitted-level-2);\n",
       "}\n",
       "\n",
       "/* Label box, darken color on hover, fitted */\n",
       "#sk-container-id-2 div.sk-label.fitted:hover label.sk-toggleable__label.fitted {\n",
       "  color: var(--sklearn-color-text);\n",
       "  background-color: var(--sklearn-color-fitted-level-2);\n",
       "}\n",
       "\n",
       "/* Estimator label */\n",
       "\n",
       "#sk-container-id-2 div.sk-label label {\n",
       "  font-family: monospace;\n",
       "  font-weight: bold;\n",
       "  display: inline-block;\n",
       "  line-height: 1.2em;\n",
       "}\n",
       "\n",
       "#sk-container-id-2 div.sk-label-container {\n",
       "  text-align: center;\n",
       "}\n",
       "\n",
       "/* Estimator-specific */\n",
       "#sk-container-id-2 div.sk-estimator {\n",
       "  font-family: monospace;\n",
       "  border: 1px dotted var(--sklearn-color-border-box);\n",
       "  border-radius: 0.25em;\n",
       "  box-sizing: border-box;\n",
       "  margin-bottom: 0.5em;\n",
       "  /* unfitted */\n",
       "  background-color: var(--sklearn-color-unfitted-level-0);\n",
       "}\n",
       "\n",
       "#sk-container-id-2 div.sk-estimator.fitted {\n",
       "  /* fitted */\n",
       "  background-color: var(--sklearn-color-fitted-level-0);\n",
       "}\n",
       "\n",
       "/* on hover */\n",
       "#sk-container-id-2 div.sk-estimator:hover {\n",
       "  /* unfitted */\n",
       "  background-color: var(--sklearn-color-unfitted-level-2);\n",
       "}\n",
       "\n",
       "#sk-container-id-2 div.sk-estimator.fitted:hover {\n",
       "  /* fitted */\n",
       "  background-color: var(--sklearn-color-fitted-level-2);\n",
       "}\n",
       "\n",
       "/* Specification for estimator info (e.g. \"i\" and \"?\") */\n",
       "\n",
       "/* Common style for \"i\" and \"?\" */\n",
       "\n",
       ".sk-estimator-doc-link,\n",
       "a:link.sk-estimator-doc-link,\n",
       "a:visited.sk-estimator-doc-link {\n",
       "  float: right;\n",
       "  font-size: smaller;\n",
       "  line-height: 1em;\n",
       "  font-family: monospace;\n",
       "  background-color: var(--sklearn-color-background);\n",
       "  border-radius: 1em;\n",
       "  height: 1em;\n",
       "  width: 1em;\n",
       "  text-decoration: none !important;\n",
       "  margin-left: 1ex;\n",
       "  /* unfitted */\n",
       "  border: var(--sklearn-color-unfitted-level-1) 1pt solid;\n",
       "  color: var(--sklearn-color-unfitted-level-1);\n",
       "}\n",
       "\n",
       ".sk-estimator-doc-link.fitted,\n",
       "a:link.sk-estimator-doc-link.fitted,\n",
       "a:visited.sk-estimator-doc-link.fitted {\n",
       "  /* fitted */\n",
       "  border: var(--sklearn-color-fitted-level-1) 1pt solid;\n",
       "  color: var(--sklearn-color-fitted-level-1);\n",
       "}\n",
       "\n",
       "/* On hover */\n",
       "div.sk-estimator:hover .sk-estimator-doc-link:hover,\n",
       ".sk-estimator-doc-link:hover,\n",
       "div.sk-label-container:hover .sk-estimator-doc-link:hover,\n",
       ".sk-estimator-doc-link:hover {\n",
       "  /* unfitted */\n",
       "  background-color: var(--sklearn-color-unfitted-level-3);\n",
       "  color: var(--sklearn-color-background);\n",
       "  text-decoration: none;\n",
       "}\n",
       "\n",
       "div.sk-estimator.fitted:hover .sk-estimator-doc-link.fitted:hover,\n",
       ".sk-estimator-doc-link.fitted:hover,\n",
       "div.sk-label-container:hover .sk-estimator-doc-link.fitted:hover,\n",
       ".sk-estimator-doc-link.fitted:hover {\n",
       "  /* fitted */\n",
       "  background-color: var(--sklearn-color-fitted-level-3);\n",
       "  color: var(--sklearn-color-background);\n",
       "  text-decoration: none;\n",
       "}\n",
       "\n",
       "/* Span, style for the box shown on hovering the info icon */\n",
       ".sk-estimator-doc-link span {\n",
       "  display: none;\n",
       "  z-index: 9999;\n",
       "  position: relative;\n",
       "  font-weight: normal;\n",
       "  right: .2ex;\n",
       "  padding: .5ex;\n",
       "  margin: .5ex;\n",
       "  width: min-content;\n",
       "  min-width: 20ex;\n",
       "  max-width: 50ex;\n",
       "  color: var(--sklearn-color-text);\n",
       "  box-shadow: 2pt 2pt 4pt #999;\n",
       "  /* unfitted */\n",
       "  background: var(--sklearn-color-unfitted-level-0);\n",
       "  border: .5pt solid var(--sklearn-color-unfitted-level-3);\n",
       "}\n",
       "\n",
       ".sk-estimator-doc-link.fitted span {\n",
       "  /* fitted */\n",
       "  background: var(--sklearn-color-fitted-level-0);\n",
       "  border: var(--sklearn-color-fitted-level-3);\n",
       "}\n",
       "\n",
       ".sk-estimator-doc-link:hover span {\n",
       "  display: block;\n",
       "}\n",
       "\n",
       "/* \"?\"-specific style due to the `<a>` HTML tag */\n",
       "\n",
       "#sk-container-id-2 a.estimator_doc_link {\n",
       "  float: right;\n",
       "  font-size: 1rem;\n",
       "  line-height: 1em;\n",
       "  font-family: monospace;\n",
       "  background-color: var(--sklearn-color-background);\n",
       "  border-radius: 1rem;\n",
       "  height: 1rem;\n",
       "  width: 1rem;\n",
       "  text-decoration: none;\n",
       "  /* unfitted */\n",
       "  color: var(--sklearn-color-unfitted-level-1);\n",
       "  border: var(--sklearn-color-unfitted-level-1) 1pt solid;\n",
       "}\n",
       "\n",
       "#sk-container-id-2 a.estimator_doc_link.fitted {\n",
       "  /* fitted */\n",
       "  border: var(--sklearn-color-fitted-level-1) 1pt solid;\n",
       "  color: var(--sklearn-color-fitted-level-1);\n",
       "}\n",
       "\n",
       "/* On hover */\n",
       "#sk-container-id-2 a.estimator_doc_link:hover {\n",
       "  /* unfitted */\n",
       "  background-color: var(--sklearn-color-unfitted-level-3);\n",
       "  color: var(--sklearn-color-background);\n",
       "  text-decoration: none;\n",
       "}\n",
       "\n",
       "#sk-container-id-2 a.estimator_doc_link.fitted:hover {\n",
       "  /* fitted */\n",
       "  background-color: var(--sklearn-color-fitted-level-3);\n",
       "}\n",
       "</style><div id=\"sk-container-id-2\" class=\"sk-top-container\"><div class=\"sk-text-repr-fallback\"><pre>KNeighborsClassifier(n_neighbors=3)</pre><b>In a Jupyter environment, please rerun this cell to show the HTML representation or trust the notebook. <br />On GitHub, the HTML representation is unable to render, please try loading this page with nbviewer.org.</b></div><div class=\"sk-container\" hidden><div class=\"sk-item\"><div class=\"sk-estimator fitted sk-toggleable\"><input class=\"sk-toggleable__control sk-hidden--visually\" id=\"sk-estimator-id-2\" type=\"checkbox\" checked><label for=\"sk-estimator-id-2\" class=\"sk-toggleable__label fitted sk-toggleable__label-arrow fitted\">&nbsp;&nbsp;KNeighborsClassifier<a class=\"sk-estimator-doc-link fitted\" rel=\"noreferrer\" target=\"_blank\" href=\"https://scikit-learn.org/1.4/modules/generated/sklearn.neighbors.KNeighborsClassifier.html\">?<span>Documentation for KNeighborsClassifier</span></a><span class=\"sk-estimator-doc-link fitted\">i<span>Fitted</span></span></label><div class=\"sk-toggleable__content fitted\"><pre>KNeighborsClassifier(n_neighbors=3)</pre></div> </div></div></div></div>"
      ],
      "text/plain": [
       "KNeighborsClassifier(n_neighbors=3)"
      ]
     },
     "execution_count": 22,
     "metadata": {},
     "output_type": "execute_result"
    }
   ],
   "source": [
    "# Entrenar el modelo seleccionado en el conjunto de entrenamiento completo\n",
    "knn.fit(X_train, y_train)"
   ]
  },
  {
   "cell_type": "markdown",
   "metadata": {},
   "source": [
    "2. **Predicciones en el Conjunto de Prueba**\n",
    "\n",
    "Usamos el modelo entrenado para predecir las clases de las muestras en el conjunto de prueba. Esto nos permitirá medir la precisión y otras métricas de rendimiento."
   ]
  },
  {
   "cell_type": "code",
   "execution_count": 23,
   "metadata": {},
   "outputs": [],
   "source": [
    "# Realizar predicciones en el conjunto de prueba\n",
    "y_pred = knn.predict(X_test)"
   ]
  },
  {
   "cell_type": "markdown",
   "metadata": {},
   "source": [
    "3. **Evaluación del Rendimiento del Modelo**\n",
    "\n",
    "Para evaluar el rendimiento del modelo, utilizaremos varias métricas de clasificación, como la precisión, la matriz de confusión, la precisión de cada clase y la puntuación F1, utilizando funciones de Scikit-Learn."
   ]
  },
  {
   "cell_type": "code",
   "execution_count": 24,
   "metadata": {},
   "outputs": [
    {
     "name": "stdout",
     "output_type": "stream",
     "text": [
      "Precisión en el conjunto de prueba: 1.0\n",
      "\n",
      "Informe de clasificación:\n",
      "               precision    recall  f1-score   support\n",
      "\n",
      "      setosa       1.00      1.00      1.00        19\n",
      "  versicolor       1.00      1.00      1.00        13\n",
      "   virginica       1.00      1.00      1.00        13\n",
      "\n",
      "    accuracy                           1.00        45\n",
      "   macro avg       1.00      1.00      1.00        45\n",
      "weighted avg       1.00      1.00      1.00        45\n",
      "\n",
      "Matriz de confusión:\n",
      " [[19  0  0]\n",
      " [ 0 13  0]\n",
      " [ 0  0 13]]\n"
     ]
    }
   ],
   "source": [
    "from sklearn.metrics import accuracy_score, classification_report, confusion_matrix\n",
    "\n",
    "# Calcular la precisión en el conjunto de prueba\n",
    "accuracy = accuracy_score(y_test, y_pred)\n",
    "print(\"Precisión en el conjunto de prueba:\", accuracy)\n",
    "\n",
    "# Mostrar el informe de clasificación detallado\n",
    "print(\"\\nInforme de clasificación:\\n\", classification_report(y_test, y_pred, target_names=iris.target_names))\n",
    "\n",
    "# Mostrar la matriz de confusión\n",
    "print(\"Matriz de confusión:\\n\", confusion_matrix(y_test, y_pred))"
   ]
  },
  {
   "cell_type": "markdown",
   "metadata": {},
   "source": [
    "4. **Interpretación de Resultados**\n",
    "\n",
    "La precisión del modelo, el informe de clasificación y la matriz de confusión nos proporcionan una visión integral del rendimiento del modelo en el conjunto de prueba:\n",
    "\n",
    "- Precisión: La precisión general nos indica el porcentaje de predicciones correctas que realizó el modelo.\n",
    "\n",
    "- Informe de Clasificación: Ofrece un desglose detallado de métricas como precisión, exhaustividad (recall) y puntuación F1 para cada clase. Esto es útil para entender cómo se desempeña el modelo en la clasificación de cada tipo de flor de Iris.\n",
    "\n",
    "- Matriz de Confusión: La matriz de confusión muestra los verdaderos positivos, falsos positivos y falsos negativos para cada clase, ayudándonos a identificar posibles errores específicos en la clasificación."
   ]
  },
  {
   "cell_type": "markdown",
   "metadata": {},
   "source": [
    "## Conclusiones\n",
    "\n",
    "En este notebook, hemos explorado el flujo de trabajo típico de un proyecto de Machine Learning en Python utilizando la biblioteca Scikit-Learn. Los principales pasos abordados incluyen la carga y preprocesamiento de datos, la selección de modelos, la validación cruzada y la evaluación final del rendimiento del modelo. A través de este ejercicio, hemos demostrado cómo Scikit-Learn simplifica estos procesos y permite aplicar técnicas avanzadas de Machine Learning de manera coherente y eficaz.\n",
    "\n",
    "Al aplicar diferentes técnicas de preprocesamiento (escalado, normalización y codificación), se logró optimizar la preparación de los datos para el modelado, mejorando así la estabilidad y precisión de los modelos. La validación cruzada resultó ser una herramienta fundamental para comparar distintos algoritmos, permitiéndonos seleccionar el modelo de KNN como el más adecuado para clasificar las especies de flores Iris en este conjunto de datos.\n",
    "\n",
    "Los resultados finales del modelo de KNN en el conjunto de prueba mostraron una buena precisión y un rendimiento equilibrado en todas las clases, lo cual sugiere que este modelo puede generalizar bien a datos no vistos. La combinación de modularidad y simplicidad en Scikit-Learn facilita el proceso de experimentación y selección de modelos, lo que es esencial en proyectos de Machine Learning."
   ]
  },
  {
   "cell_type": "markdown",
   "metadata": {},
   "source": [
    "## Referencias\n",
    "\n",
    "- Pedregosa, F., Varoquaux, G., Gramfort, A., Michel, V., Thirion, B., Grisel, O., … Duchesnay, E. (2011). Scikit-learn: Machine Learning in Python. Journal of Machine Learning Research, 12, 2825-2830. Disponible en: https://www.jmlr.org/papers/volume12/pedregosa11a/pedregosa11a.pdf\n",
    "\n",
    "- Van Der Walt, S., Colbert, S. C., & Varoquaux, G. (2011). The NumPy Array: A Structure for Efficient Numerical Computation. Computing in Science and Engineering, 13(2), 22-30. Disponible en: https://www.researchgate.net/publication/224223550_The_NumPy_Array_A_Structure_for_Efficient_Numerical_Computation\n",
    "\n",
    "- McKinney, W. (2010). Data Structures for Statistical Computing in Python. Proceedings of the 9th Python in Science Conference, 56-61. Disponible en: https://www.researchgate.net/publication/265001241_Data_Structures_for_Statistical_Computing_in_Python\n",
    "\n",
    "- Géron, A. (2019). Hands-On Machine Learning with Scikit-Learn, Keras, and TensorFlow (2nd ed.). O'Reilly Media\n",
    "\n",
    "- Buitinck, L., Louppe, G., Blondel, M., Pedregosa, F., Mueller, A., Grisel, O., … Varoquaux, G. (2013). API design for machine learning software: experiences from the scikit-learn project. arXiv preprint arXiv:1309.0238. Disponible en: https://arxiv.org/abs/1309.0238"
   ]
  }
 ],
 "metadata": {
  "kernelspec": {
   "display_name": "Python 3 (ipykernel)",
   "language": "python",
   "name": "python3"
  },
  "language_info": {
   "codemirror_mode": {
    "name": "ipython",
    "version": 3
   },
   "file_extension": ".py",
   "mimetype": "text/x-python",
   "name": "python",
   "nbconvert_exporter": "python",
   "pygments_lexer": "ipython3",
   "version": "3.12.4"
  }
 },
 "nbformat": 4,
 "nbformat_minor": 4
}
